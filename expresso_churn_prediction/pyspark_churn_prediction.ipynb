{
 "cells": [
  {
   "cell_type": "markdown",
   "metadata": {},
   "source": [
    "__NOTES REPRODUCING:__\n",
    "\n",
    "<u>Files and file locations</u>\n",
    "\n",
    "- Please download __train.csv__ (247Mb) and __VariableDefinitions.csv__ (1.4Kb) from https://zindi.africa/competitions/expresso-churn-prediction/data\n",
    "- __train.csv__ may be renamed to __expresso_train.csv__ and placed at an appropriate location on HDFS\n",
    "- Update the HDFS location in cells 3 and 31 with your own location\n",
    "- __VariableDefinitions.csv__ may be placed in the same location as the Jupyter Notebook\n",
    "- Image file __train-test-splits.png__ supplied in the submission may be placed in the same location as the Jupyter Notebook\n",
    "\n",
    "<u>Reduced hyperparameter spaces</u>\n",
    "\n",
    "- To test cross-validation with a smaller number of hyperparameters you may substitute in the reduced searchspace under __# Reduced searchspace__ in cells 38, 39, and 40"
   ]
  },
  {
   "cell_type": "markdown",
   "metadata": {},
   "source": [
    "# 1. Topic proposal"
   ]
  },
  {
   "cell_type": "markdown",
   "metadata": {},
   "source": [
    "## 1.1 Introduction\n",
    "\n",
    "Predicting customer churn is a common application of machine learning in many industries. The main idea is to use a variety of data points reflecting customers and their behaviour to predict whether a customer will stop buying a product or service. It is essentially a binary classification problem: churn vs not-churn.\n",
    "\n",
    "I selected this project as it is a topic of interest to the company where I currently work: a news media company that offers a subscription-based service. Identifying customers who are at risk of churning is useful to business because various retention interventions can be considered for high-risk customers: for example, contacting the customer to offer a discount on the next purchase, recommending a product or content that is likely to appeal to the customer, and so on.\n",
    "\n",
    "The dataset I have selected is available on the Zindi Africa platform: the [Expresso Churn Prediction Challenge](https://zindi.africa/competitions/expresso-churn-prediction) - the dataset (named __train.csv__) may be downloaded from this location. \"Expresso is an African telecommunications company that provides customers with airtime and mobile data bundles. The objective of this challenge is to develop a machine learning model to predict the likelihood of each Expresso customer “churning”, i.e. becoming inactive and not making any transactions for 90 days\" and the stated evaluation metric for the task is Area Under the Curve (AUC) (Zindi, 2021).\n",
    "\n",
    "At 247Mb (~2.1 million records) it is a smallish dataset in Hadoop terms, but illustrates well how such a task can be tackled using PySpark and PySpark ML which is the DataFrame-based machine learning API (Apache Spark, 2023). I am using version 3.0.1.\n",
    "\n",
    "Note: at the time of writing (mid-August) the Expresso company website is unavailable. Upon further investigation I discovered that the Senegalese government has been imposing internet blackouts on the country since 31 July which probably accounts for this (Atabong, 2023). As a result I used some secondary data sources to get certain background information for my project."
   ]
  },
  {
   "cell_type": "markdown",
   "metadata": {},
   "source": [
    "#### Library Imports\n",
    "\n",
    "The following libraries will be used in this project. Note the seaborn library was not initially available on my default environment. If required, uncomment the first 2 lines to install it before proceeding (you may need to restart the kernel after doing so for the installation to register):"
   ]
  },
  {
   "cell_type": "code",
   "execution_count": 1,
   "metadata": {},
   "outputs": [],
   "source": [
    "# import sys\n",
    "# !{sys.executable} -m pip install seaborn"
   ]
  },
  {
   "cell_type": "code",
   "execution_count": 2,
   "metadata": {},
   "outputs": [
    {
     "data": {
      "text/html": [
       "\n",
       "            <div>\n",
       "                <p><b>SparkSession - in-memory</b></p>\n",
       "                \n",
       "        <div>\n",
       "            <p><b>SparkContext</b></p>\n",
       "\n",
       "            <p><a href=\"http://lena-master:4062\">Spark UI</a></p>\n",
       "\n",
       "            <dl>\n",
       "              <dt>Version</dt>\n",
       "                <dd><code>v3.0.1</code></dd>\n",
       "              <dt>Master</dt>\n",
       "                <dd><code>yarn</code></dd>\n",
       "              <dt>AppName</dt>\n",
       "                <dd><code>pyspark-shell</code></dd>\n",
       "            </dl>\n",
       "        </div>\n",
       "        \n",
       "            </div>\n",
       "        "
      ],
      "text/plain": [
       "<pyspark.sql.session.SparkSession at 0x7f4b5d3973d0>"
      ]
     },
     "execution_count": 2,
     "metadata": {},
     "output_type": "execute_result"
    }
   ],
   "source": [
    "from pyspark import SparkContext\n",
    "sc = SparkContext()\n",
    "from pyspark.sql import SparkSession\n",
    "spark = SparkSession(sc)\n",
    "import pyspark.sql.functions as fn\n",
    "from pyspark.ml.stat import Correlation\n",
    "from pyspark.ml import Pipeline\n",
    "from pyspark.ml.feature import OneHotEncoder, StringIndexer, RobustScaler, VectorAssembler, MinMaxScaler\n",
    "from pyspark.ml.tuning import CrossValidator, ParamGridBuilder\n",
    "from pyspark.ml.evaluation import BinaryClassificationEvaluator\n",
    "from pyspark.mllib.evaluation import MulticlassMetrics\n",
    "from pyspark.ml.classification import LogisticRegression, RandomForestClassifier, GBTClassifier\n",
    "from pyspark.ml.functions import vector_to_array\n",
    "import time\n",
    "import inspect\n",
    "import itertools\n",
    "from pprint import pprint\n",
    "import numpy as np\n",
    "import pandas as pd\n",
    "pd.set_option('display.max_colwidth', 500)\n",
    "from matplotlib import pyplot as plt\n",
    "import seaborn as sns\n",
    "sns.set_theme(palette = 'husl', style = 'darkgrid', rc = {'figure.figsize':(7, 5)})\n",
    "notebook_start = time.time()\n",
    "spark"
   ]
  },
  {
   "cell_type": "markdown",
   "metadata": {},
   "source": [
    "## 1.2 Data\n",
    "\n",
    "The data exploration phase serves 3 purposes:\n",
    "\n",
    "1. Understand our feature and target variables and what they represent\n",
    "2. Gain insights into whether the given data has sufficient 'signal' for us to be able to predict whether a customer churns or not\n",
    "3. Assess what transformations the data will require in order to be used in subsequent machine learning models"
   ]
  },
  {
   "cell_type": "markdown",
   "metadata": {},
   "source": [
    "### 1.2.1 Data Imports\n",
    "\n",
    "The main file ```expresso_train.csv``` has been placed on HDFS already. Let's begin by reading it in and checking that the result is a pyspark DataFrame, and the number of partitions holding the data:"
   ]
  },
  {
   "cell_type": "code",
   "execution_count": 3,
   "metadata": {},
   "outputs": [
    {
     "name": "stdout",
     "output_type": "stream",
     "text": [
      "Resulting data type:   <class 'pyspark.sql.dataframe.DataFrame'>\n",
      "Number of partitions:  2\n"
     ]
    }
   ],
   "source": [
    "df = spark.read.csv(\"hdfs://lena/user/<username>/coursework2/expresso_train.csv\", inferSchema = True, header= True)\n",
    "print(f'''Resulting data type:   {type(df)}''')\n",
    "print(f'''Number of partitions:  {df.rdd.getNumPartitions()}''')"
   ]
  },
  {
   "cell_type": "markdown",
   "metadata": {},
   "source": [
    "A small supplementary file called ```VariableDefinitions.csv``` is supplied which tells us what columns we should expect in the dataset - here are those descriptions:"
   ]
  },
  {
   "cell_type": "code",
   "execution_count": 4,
   "metadata": {},
   "outputs": [
    {
     "data": {
      "text/html": [
       "<div>\n",
       "<style scoped>\n",
       "    .dataframe tbody tr th:only-of-type {\n",
       "        vertical-align: middle;\n",
       "    }\n",
       "\n",
       "    .dataframe tbody tr th {\n",
       "        vertical-align: top;\n",
       "    }\n",
       "\n",
       "    .dataframe thead th {\n",
       "        text-align: right;\n",
       "    }\n",
       "</style>\n",
       "<table border=\"1\" class=\"dataframe\">\n",
       "  <thead>\n",
       "    <tr style=\"text-align: right;\">\n",
       "      <th></th>\n",
       "      <th>variable</th>\n",
       "      <th>description</th>\n",
       "    </tr>\n",
       "  </thead>\n",
       "  <tbody>\n",
       "    <tr>\n",
       "      <th>0</th>\n",
       "      <td>user_id</td>\n",
       "      <td>NaN</td>\n",
       "    </tr>\n",
       "    <tr>\n",
       "      <th>1</th>\n",
       "      <td>REGION</td>\n",
       "      <td>the location of each client</td>\n",
       "    </tr>\n",
       "    <tr>\n",
       "      <th>2</th>\n",
       "      <td>TENURE</td>\n",
       "      <td>duration in the network</td>\n",
       "    </tr>\n",
       "    <tr>\n",
       "      <th>3</th>\n",
       "      <td>MONTANT</td>\n",
       "      <td>top-up amount</td>\n",
       "    </tr>\n",
       "    <tr>\n",
       "      <th>4</th>\n",
       "      <td>FREQUENCE_RECH</td>\n",
       "      <td>number of times the customer refilled</td>\n",
       "    </tr>\n",
       "    <tr>\n",
       "      <th>5</th>\n",
       "      <td>REVENUE</td>\n",
       "      <td>monthly income of each client</td>\n",
       "    </tr>\n",
       "    <tr>\n",
       "      <th>6</th>\n",
       "      <td>ARPU_SEGMENT</td>\n",
       "      <td>income over 90 days / 3</td>\n",
       "    </tr>\n",
       "    <tr>\n",
       "      <th>7</th>\n",
       "      <td>FREQUENCE</td>\n",
       "      <td>number of times the client has made an income</td>\n",
       "    </tr>\n",
       "    <tr>\n",
       "      <th>8</th>\n",
       "      <td>DATA_VOLUME</td>\n",
       "      <td>number of connections</td>\n",
       "    </tr>\n",
       "    <tr>\n",
       "      <th>9</th>\n",
       "      <td>ON_NET</td>\n",
       "      <td>inter expresso call</td>\n",
       "    </tr>\n",
       "    <tr>\n",
       "      <th>10</th>\n",
       "      <td>ORANGE</td>\n",
       "      <td>call to orange</td>\n",
       "    </tr>\n",
       "    <tr>\n",
       "      <th>11</th>\n",
       "      <td>TIGO</td>\n",
       "      <td>call to Tigo</td>\n",
       "    </tr>\n",
       "    <tr>\n",
       "      <th>12</th>\n",
       "      <td>ZONE1</td>\n",
       "      <td>call to zones1</td>\n",
       "    </tr>\n",
       "    <tr>\n",
       "      <th>13</th>\n",
       "      <td>ZONE2</td>\n",
       "      <td>call to zones2</td>\n",
       "    </tr>\n",
       "    <tr>\n",
       "      <th>14</th>\n",
       "      <td>MRG</td>\n",
       "      <td>a client who is going</td>\n",
       "    </tr>\n",
       "    <tr>\n",
       "      <th>15</th>\n",
       "      <td>REGULARITY</td>\n",
       "      <td>number of times the client is active for 90 days</td>\n",
       "    </tr>\n",
       "    <tr>\n",
       "      <th>16</th>\n",
       "      <td>TOP_PACK</td>\n",
       "      <td>the most active packs</td>\n",
       "    </tr>\n",
       "    <tr>\n",
       "      <th>17</th>\n",
       "      <td>FREQ_TOP_PACK</td>\n",
       "      <td>number of times the client has activated the top pack packages</td>\n",
       "    </tr>\n",
       "    <tr>\n",
       "      <th>18</th>\n",
       "      <td>CHURN</td>\n",
       "      <td>variable to predict - Target</td>\n",
       "    </tr>\n",
       "  </tbody>\n",
       "</table>\n",
       "</div>"
      ],
      "text/plain": [
       "          variable  \\\n",
       "0          user_id   \n",
       "1           REGION   \n",
       "2           TENURE   \n",
       "3          MONTANT   \n",
       "4   FREQUENCE_RECH   \n",
       "5          REVENUE   \n",
       "6     ARPU_SEGMENT   \n",
       "7        FREQUENCE   \n",
       "8      DATA_VOLUME   \n",
       "9           ON_NET   \n",
       "10          ORANGE   \n",
       "11            TIGO   \n",
       "12           ZONE1   \n",
       "13           ZONE2   \n",
       "14             MRG   \n",
       "15      REGULARITY   \n",
       "16        TOP_PACK   \n",
       "17   FREQ_TOP_PACK   \n",
       "18           CHURN   \n",
       "\n",
       "                                                       description  \n",
       "0                                                              NaN  \n",
       "1                                      the location of each client  \n",
       "2                                          duration in the network  \n",
       "3                                                    top-up amount  \n",
       "4                            number of times the customer refilled  \n",
       "5                                    monthly income of each client  \n",
       "6                                          income over 90 days / 3  \n",
       "7                    number of times the client has made an income  \n",
       "8                                            number of connections  \n",
       "9                                              inter expresso call  \n",
       "10                                                  call to orange  \n",
       "11                                                    call to Tigo  \n",
       "12                                                  call to zones1  \n",
       "13                                                  call to zones2  \n",
       "14                                           a client who is going  \n",
       "15                number of times the client is active for 90 days  \n",
       "16                                           the most active packs  \n",
       "17  number of times the client has activated the top pack packages  \n",
       "18                                    variable to predict - Target  "
      ]
     },
     "execution_count": 4,
     "metadata": {},
     "output_type": "execute_result"
    }
   ],
   "source": [
    "variable_defs = pd.read_csv('VariableDefinitions.csv', \n",
    "                            usecols=[0,2], skiprows=[0, 1, 2], \n",
    "                            names = ['variable', 'description'])\n",
    "variable_defs"
   ]
  },
  {
   "cell_type": "markdown",
   "metadata": {},
   "source": [
    "Now let's check the schema of our DataFrame:"
   ]
  },
  {
   "cell_type": "code",
   "execution_count": 5,
   "metadata": {},
   "outputs": [
    {
     "name": "stdout",
     "output_type": "stream",
     "text": [
      "root\n",
      " |-- user_id: string (nullable = true)\n",
      " |-- REGION: string (nullable = true)\n",
      " |-- TENURE: string (nullable = true)\n",
      " |-- MONTANT: double (nullable = true)\n",
      " |-- FREQUENCE_RECH: double (nullable = true)\n",
      " |-- REVENUE: double (nullable = true)\n",
      " |-- ARPU_SEGMENT: double (nullable = true)\n",
      " |-- FREQUENCE: double (nullable = true)\n",
      " |-- DATA_VOLUME: double (nullable = true)\n",
      " |-- ON_NET: double (nullable = true)\n",
      " |-- ORANGE: double (nullable = true)\n",
      " |-- TIGO: double (nullable = true)\n",
      " |-- ZONE1: double (nullable = true)\n",
      " |-- ZONE2: double (nullable = true)\n",
      " |-- MRG: string (nullable = true)\n",
      " |-- REGULARITY: integer (nullable = true)\n",
      " |-- TOP_PACK: string (nullable = true)\n",
      " |-- FREQ_TOP_PACK: double (nullable = true)\n",
      " |-- CHURN: integer (nullable = true)\n",
      "\n",
      "Number of records: 2154048\n"
     ]
    }
   ],
   "source": [
    "df.printSchema()\n",
    "print(f'''Number of records: {df.count()}''')"
   ]
  },
  {
   "cell_type": "markdown",
   "metadata": {},
   "source": [
    "All the expected columns are present. I found the performance on querying and filtering my DataFrame reasonably fast so I will conduct my initial analysis on the entire DataFrame of 2154048 records so as to know exactly what I am dealing with in the data. Later on I will sample the dataset to save time on certain tasks.\n"
   ]
  },
  {
   "cell_type": "markdown",
   "metadata": {},
   "source": [
    "### 1.2.2 Data exploration\n",
    "\n",
    "_Note that in this section I create a series of functions to clean the data as I find issues._\n",
    "\n",
    "#### Data types\n",
    "\n",
    "From the above schema we can see that all the expected columns are present. Most of the numeric columns have been inferred as 'double' but REGULARITY has been inferred as 'integer'. While some columns with descriptions like 'number of times' or 'number of calls' would naturally be expressed as 'integer' values, I'm going to convert all numeric columns to 'double' so that later on if we want to do operations like imputing nulls from the mean, or standardizing our data then the columns will already be an appropriate type for decimal values. \n",
    "\n",
    "<u>__Data transformation tasks__</u>: \n",
    "\n",
    "- Below I identify which columns I want as doubles. I then create a function ```cast_to_double``` to transform all required numeric columns to type 'double'."
   ]
  },
  {
   "cell_type": "code",
   "execution_count": 6,
   "metadata": {},
   "outputs": [],
   "source": [
    "doubles = ['MONTANT', 'FREQUENCE_RECH', 'REVENUE', 'ARPU_SEGMENT', 'FREQUENCE', 'DATA_VOLUME', \n",
    "           'ON_NET', 'ORANGE', 'TIGO', 'ZONE1', 'ZONE2', 'REGULARITY', 'FREQ_TOP_PACK', 'CHURN']\n",
    "\n",
    "def cast_to_double(df, columns):\n",
    "    '''Transform required columns to double type'''\n",
    "    return df.select(\n",
    "                *(c for c in df.columns if c not in columns),\n",
    "                *(fn.col(c).cast('double').alias(c) for c in columns)\n",
    "               )\n",
    "df = df.transform(lambda df: cast_to_double(df, doubles))"
   ]
  },
  {
   "cell_type": "markdown",
   "metadata": {},
   "source": [
    "#### Data overview and nulls\n",
    "\n",
    "Let's look at a couple of records:"
   ]
  },
  {
   "cell_type": "code",
   "execution_count": 7,
   "metadata": {},
   "outputs": [
    {
     "name": "stdout",
     "output_type": "stream",
     "text": [
      "-RECORD 0------------------------------\n",
      " user_id        | 00000bfd7d50f0109... \n",
      " REGION         | FATICK               \n",
      " TENURE         | K > 24 month         \n",
      " MRG            | NO                   \n",
      " TOP_PACK       | On net 200F=Unlim... \n",
      " MONTANT        | 4250.0               \n",
      " FREQUENCE_RECH | 15.0                 \n",
      " REVENUE        | 4251.0               \n",
      " ARPU_SEGMENT   | 1417.0               \n",
      " FREQUENCE      | 17.0                 \n",
      " DATA_VOLUME    | 4.0                  \n",
      " ON_NET         | 388.0                \n",
      " ORANGE         | 46.0                 \n",
      " TIGO           | 1.0                  \n",
      " ZONE1          | 1.0                  \n",
      " ZONE2          | 2.0                  \n",
      " REGULARITY     | 54.0                 \n",
      " FREQ_TOP_PACK  | 8.0                  \n",
      " CHURN          | 0.0                  \n",
      "-RECORD 1------------------------------\n",
      " user_id        | 00000cb4a5d760de8... \n",
      " REGION         | null                 \n",
      " TENURE         | I 18-21 month        \n",
      " MRG            | NO                   \n",
      " TOP_PACK       | null                 \n",
      " MONTANT        | null                 \n",
      " FREQUENCE_RECH | null                 \n",
      " REVENUE        | null                 \n",
      " ARPU_SEGMENT   | null                 \n",
      " FREQUENCE      | null                 \n",
      " DATA_VOLUME    | null                 \n",
      " ON_NET         | null                 \n",
      " ORANGE         | null                 \n",
      " TIGO           | null                 \n",
      " ZONE1          | null                 \n",
      " ZONE2          | null                 \n",
      " REGULARITY     | 4.0                  \n",
      " FREQ_TOP_PACK  | null                 \n",
      " CHURN          | 1.0                  \n",
      "only showing top 2 rows\n",
      "\n"
     ]
    }
   ],
   "source": [
    "df.show(2, vertical = True)"
   ]
  },
  {
   "cell_type": "markdown",
   "metadata": {},
   "source": [
    "From the above it is clear we have some null values. Let's see the extent of the null value problem - it seems that many of the columns have > 33% of records with null values:"
   ]
  },
  {
   "cell_type": "code",
   "execution_count": 8,
   "metadata": {},
   "outputs": [
    {
     "name": "stdout",
     "output_type": "stream",
     "text": [
      "-RECORD 0-----------------------\n",
      " user_id_%nulls        | 0.0    \n",
      " REGION_%nulls         | 0.3943 \n",
      " TENURE_%nulls         | 0.0    \n",
      " MRG_%nulls            | 0.0    \n",
      " TOP_PACK_%nulls       | 0.419  \n",
      " MONTANT_%nulls        | 0.3513 \n",
      " FREQUENCE_RECH_%nulls | 0.3513 \n",
      " REVENUE_%nulls        | 0.3371 \n",
      " ARPU_SEGMENT_%nulls   | 0.3371 \n",
      " FREQUENCE_%nulls      | 0.3371 \n",
      " DATA_VOLUME_%nulls    | 0.4923 \n",
      " ON_NET_%nulls         | 0.3652 \n",
      " ORANGE_%nulls         | 0.4156 \n",
      " TIGO_%nulls           | 0.5989 \n",
      " ZONE1_%nulls          | 0.9212 \n",
      " ZONE2_%nulls          | 0.9365 \n",
      " REGULARITY_%nulls     | 0.0    \n",
      " FREQ_TOP_PACK_%nulls  | 0.419  \n",
      " CHURN_%nulls          | 0.0    \n",
      "\n"
     ]
    }
   ],
   "source": [
    "df.agg(*[\n",
    "       (fn.round(1 - (fn.count(c) / fn.count('*')), 4)).alias(c + '_%nulls')\n",
    "       for c in df.columns\n",
    "]).show(vertical = True)"
   ]
  },
  {
   "cell_type": "markdown",
   "metadata": {},
   "source": [
    "By examining each column in more detail we can get a sense of the relevance of each variable to the problem, and a better idea of how to handle null values. I have created 4 functions to make this exploration easier: ```show_categorical``` which will show us a table of counts per category for a column, ```plot_categorical_by_target``` which will show us the percentage of churners by category for a column, ```show_histogram``` which will show us the distribution of numerical variables, and ```show_metric_by_target``` which will show us the mean or median value per churn target:"
   ]
  },
  {
   "cell_type": "code",
   "execution_count": 9,
   "metadata": {},
   "outputs": [],
   "source": [
    "def show_categorical(df, column):\n",
    "    '''Takes in a df and column name and returns the count of records per column value\n",
    "    and the percentage of total - count('*') is necessary so that null values also\n",
    "    return a valid count rather than 0 which is the default behaviour.'''\n",
    "    df.groupBy(column).agg(\n",
    "    *[fn.count('*').alias('totals'), \n",
    "      (fn.round(fn.count('*') / df.count(), 4)\n",
    "      ).alias('percentages')]).sort('totals', ascending=False).show()\n",
    "    \n",
    "# Being familiar with SQL syntax I find this method of querying the data rather convenient\n",
    "def plot_categorical_by_target(df, column):\n",
    "    '''Takes in a df and categorical column of interest and returns the % churners per category'''\n",
    "    # first create a temp view of the current state of df to query\n",
    "    df.createOrReplaceTempView(\"sql_table\")\n",
    "    cat_data = spark.sql(f'''SELECT {column}\n",
    "                    , CHURN\n",
    "                    , COUNT(CHURN) AS records\n",
    "                    , ROUND(COUNT(CHURN) / SUM(COUNT(CHURN)) OVER (PARTITION BY {column}), 4) AS perc \n",
    "                    FROM sql_table GROUP BY 1, 2 ORDER BY 1, 2''').toPandas()\n",
    "    ax = cat_data.loc[cat_data['CHURN'] == 1.0, [column, 'perc']].sort_values(by = column).plot(\n",
    "                    x = column, kind='bar', figsize=(8, 4), ylim = (0, 0.6),\n",
    "                    ylabel = '% CHURN', legend = False, title = f'''Churn by {column}''')\n",
    "    ax.bar_label(ax.containers[0], rotation=90, padding = 5)\n",
    "    plt.show()\n",
    "    \n",
    "def show_histogram(df, columns):\n",
    "    '''Takes in a df and a list of one or more columns and returns a histogram'''\n",
    "    for column in columns:\n",
    "        hist = df.select(column).rdd.flatMap(\n",
    "               lambda row: row\n",
    "        ).histogram(20)\n",
    "        data = {\n",
    "               'bins': hist[0][1:],\n",
    "               'freq': hist[1]\n",
    "            }\n",
    "        plt.bar(data['bins'], data['freq'], width=hist[0][1] - hist[0][0])\n",
    "        plt.ticklabel_format(scilimits=(-5, 8))\n",
    "        plt.xticks(data['bins'], rotation = 90)\n",
    "        plt.xlabel(f'''{column} bins''')\n",
    "        plt.ylabel('Number of customers')\n",
    "        plt.title(f'''{column} distribution''')\n",
    "        plt.show()\n",
    "\n",
    "def show_metric_by_target(df, columns, metric = 'median'):\n",
    "    '''Takes in a df and a list of one or more columns and returns the median per CHURN target'''\n",
    "    for column in columns:\n",
    "        df.createOrReplaceTempView(\"sql_table\")\n",
    "        if metric == 'median':\n",
    "            spark.sql(f'''SELECT \n",
    "                            CHURN\n",
    "                            , percentile_approx({column}, 0.5) AS {column}_median\n",
    "                          FROM sql_table GROUP BY 1''').show()\n",
    "        elif metric == 'mean':\n",
    "            spark.sql(f'''SELECT \n",
    "                            CHURN\n",
    "                            , AVG({column}) AS {column}_mean\n",
    "                          FROM sql_table GROUP BY 1''').show()\n",
    "        else:\n",
    "            print('please specify metric = mean/median')"
   ]
  },
  {
   "cell_type": "markdown",
   "metadata": {},
   "source": [
    "#### _Target variable_\n",
    "#### CHURN in detail\n",
    "\n",
    "CHURN is the target variable we want to predict, where 0.0 is a non-churner and 1.0 is a churner. Here we see that we are dealing with an imblanaced dataset - 81% of the customers are non-churners , and only 19% are churners:"
   ]
  },
  {
   "cell_type": "code",
   "execution_count": 10,
   "metadata": {},
   "outputs": [
    {
     "name": "stdout",
     "output_type": "stream",
     "text": [
      "+-----+-------+-----------+\n",
      "|CHURN| totals|percentages|\n",
      "+-----+-------+-----------+\n",
      "|  0.0|1750062|     0.8125|\n",
      "|  1.0| 403986|     0.1875|\n",
      "+-----+-------+-----------+\n",
      "\n"
     ]
    }
   ],
   "source": [
    "show_categorical(df, 'CHURN')"
   ]
  },
  {
   "cell_type": "markdown",
   "metadata": {},
   "source": [
    "#### _Categorical variables_\n",
    "\n",
    "#### REGION in detail\n",
    "\n",
    "There are a high number of null values in REGION (39%):"
   ]
  },
  {
   "cell_type": "code",
   "execution_count": 11,
   "metadata": {},
   "outputs": [
    {
     "name": "stdout",
     "output_type": "stream",
     "text": [
      "+-----------+------+-----------+\n",
      "|     REGION|totals|percentages|\n",
      "+-----------+------+-----------+\n",
      "|       null|849299|     0.3943|\n",
      "|      DAKAR|513271|     0.2383|\n",
      "|      THIES|180052|     0.0836|\n",
      "|SAINT-LOUIS|119886|     0.0557|\n",
      "|      LOUGA| 99053|      0.046|\n",
      "|    KAOLACK| 96986|      0.045|\n",
      "|   DIOURBEL| 66911|     0.0311|\n",
      "|TAMBACOUNDA| 55074|     0.0256|\n",
      "|   KAFFRINE| 43963|     0.0204|\n",
      "|      KOLDA| 38743|      0.018|\n",
      "|     FATICK| 35643|     0.0165|\n",
      "|      MATAM| 29083|     0.0135|\n",
      "| ZIGUINCHOR| 21945|     0.0102|\n",
      "|    SEDHIOU|  3119|     0.0014|\n",
      "|   KEDOUGOU|  1020|     5.0E-4|\n",
      "+-----------+------+-----------+\n",
      "\n"
     ]
    }
   ],
   "source": [
    "show_categorical(df, 'REGION')"
   ]
  },
  {
   "cell_type": "markdown",
   "metadata": {},
   "source": [
    "Let's look at the relationship between REGION and our target variable CHURN:"
   ]
  },
  {
   "cell_type": "code",
   "execution_count": 12,
   "metadata": {},
   "outputs": [
    {
     "data": {
      "image/png": "[encoded data removed]",
      "text/plain": [
       "<Figure size 576x288 with 1 Axes>"
      ]
     },
     "metadata": {},
     "output_type": "display_data"
    }
   ],
   "source": [
    "plot_categorical_by_target(df, 'REGION')"
   ]
  },
  {
   "cell_type": "markdown",
   "metadata": {},
   "source": [
    "Those customers whose region is not known are very much more likely to churn. In addition we see that, for example, the churn rate in SEDHIOU is around 4 times greater than the churn rate in other regions like KAFFRINE and KOLDA, so this feature certainly has potential to be predictive. \n",
    "\n",
    "<u>__Data transformation tasks__</u>: \n",
    "\n",
    "- I create a function ```fill_region``` to fill the null values in REGION with 'UNKNOWN'."
   ]
  },
  {
   "cell_type": "code",
   "execution_count": 13,
   "metadata": {},
   "outputs": [],
   "source": [
    "def fill_region(df):\n",
    "    '''Full null regions with UNKNOWN'''\n",
    "    return df.fillna('UNKNOWN', subset='REGION')\n",
    "df = df.transform(fill_region)"
   ]
  },
  {
   "cell_type": "markdown",
   "metadata": {},
   "source": [
    "#### TENURE in detail\n",
    "\n",
    "The entries for tenure are complete with no null values:"
   ]
  },
  {
   "cell_type": "code",
   "execution_count": 14,
   "metadata": {},
   "outputs": [
    {
     "name": "stdout",
     "output_type": "stream",
     "text": [
      "+-------------+-------+-----------+\n",
      "|       TENURE| totals|percentages|\n",
      "+-------------+-------+-----------+\n",
      "| K > 24 month|2043201|     0.9485|\n",
      "|I 18-21 month|  45278|      0.021|\n",
      "|H 15-18 month|  26006|     0.0121|\n",
      "|G 12-15 month|  14901|     0.0069|\n",
      "|J 21-24 month|  12725|     0.0059|\n",
      "| F 9-12 month|   9328|     0.0043|\n",
      "|  E 6-9 month|   1839|     9.0E-4|\n",
      "|  D 3-6 month|    770|     4.0E-4|\n",
      "+-------------+-------+-----------+\n",
      "\n"
     ]
    }
   ],
   "source": [
    "show_categorical(df, 'TENURE')"
   ]
  },
  {
   "cell_type": "markdown",
   "metadata": {},
   "source": [
    "Let's look at the relationship between TENURE and our target variable CHURN:"
   ]
  },
  {
   "cell_type": "code",
   "execution_count": 15,
   "metadata": {},
   "outputs": [
    {
     "data": {
      "image/png": "[encoded data removed]",
      "text/plain": [
       "<Figure size 576x288 with 1 Axes>"
      ]
     },
     "metadata": {},
     "output_type": "display_data"
    }
   ],
   "source": [
    "plot_categorical_by_target(df, 'TENURE')"
   ]
  },
  {
   "cell_type": "markdown",
   "metadata": {},
   "source": [
    "This graph tells us that customers are most likely to churn around the 12-15-month point. Customers prior to this point churn less, and customers who have been with the company for more than 24 months appear to have become rather loyal and churn less - good news for Expresso since 95% of their customers have been with them for more than 24 months! It would seem TENURE could also be a useful variable for our model."
   ]
  },
  {
   "cell_type": "markdown",
   "metadata": {},
   "source": [
    "#### MRG in detail\n",
    "\n",
    "It turns out MRG is a non-feature - all records contain the same value, so we'll drop this column:"
   ]
  },
  {
   "cell_type": "code",
   "execution_count": 16,
   "metadata": {},
   "outputs": [
    {
     "name": "stdout",
     "output_type": "stream",
     "text": [
      "+---+-------+-----------+\n",
      "|MRG| totals|percentages|\n",
      "+---+-------+-----------+\n",
      "| NO|2154048|        1.0|\n",
      "+---+-------+-----------+\n",
      "\n"
     ]
    }
   ],
   "source": [
    "show_categorical(df, 'MRG')"
   ]
  },
  {
   "cell_type": "markdown",
   "metadata": {},
   "source": [
    "<u>__Data transformation tasks__</u>: \n",
    "\n",
    "- Below I start a list of ```columns_to_drop``` and create a function ```drop_columns``` to drop required columns. I'll add to this list as we go if required."
   ]
  },
  {
   "cell_type": "code",
   "execution_count": 17,
   "metadata": {},
   "outputs": [],
   "source": [
    "columns_to_drop = ['MRG']\n",
    "def drop_columns(df, *columns):\n",
    "    '''Drop columns identified as irrelevant or containing too many nulls'''\n",
    "    return df.drop(*columns)\n",
    "df = df.transform(lambda df: drop_columns(df, *columns_to_drop))"
   ]
  },
  {
   "cell_type": "markdown",
   "metadata": {},
   "source": [
    "#### TOP_PACK in detail\n",
    "\n",
    "TOP_PACK contains almost 42% null values. In addition we have more than 20 distinct values:"
   ]
  },
  {
   "cell_type": "code",
   "execution_count": 18,
   "metadata": {},
   "outputs": [
    {
     "name": "stdout",
     "output_type": "stream",
     "text": [
      "+--------------------+------+-----------+\n",
      "|            TOP_PACK|totals|percentages|\n",
      "+--------------------+------+-----------+\n",
      "|                null|902594|      0.419|\n",
      "|All-net 500F=2000...|317802|     0.1475|\n",
      "|On net 200F=Unlim...|152295|     0.0707|\n",
      "|    Data:490F=1GB,7d|115180|     0.0535|\n",
      "|Data: 100 F=40MB,24H| 84649|     0.0393|\n",
      "|Mixt 250F=Unlimit...| 67512|     0.0313|\n",
      "|MIXT:500F= 2500F ...| 64412|     0.0299|\n",
      "|  Data:1000F=2GB,30d| 59770|     0.0277|\n",
      "|All-net 500F =200...| 46890|     0.0218|\n",
      "|         Jokko_Daily| 45036|     0.0209|\n",
      "|Data: 200 F=100MB...| 42841|     0.0199|\n",
      "| IVR Echat_Daily_50F| 28658|     0.0133|\n",
      "| On-net 500=4000,10d| 26733|     0.0124|\n",
      "|  On-net 500F_FNF;3d| 22332|     0.0104|\n",
      "|Data:200F=Unlimit...| 22043|     0.0102|\n",
      "|MIXT: 200mnoff ne...| 19318|      0.009|\n",
      "|On-net 1000F=10Mi...| 18454|     0.0086|\n",
      "|VAS(IVR_Radio_Daily)| 14686|     0.0068|\n",
      "|   Data:1000F=5GB,7d| 14629|     0.0068|\n",
      "|  Twter_U2opia_Daily| 12060|     0.0056|\n",
      "+--------------------+------+-----------+\n",
      "only showing top 20 rows\n",
      "\n"
     ]
    }
   ],
   "source": [
    "# Now let's examine TOP_PACK\n",
    "show_categorical(df, 'TOP_PACK')"
   ]
  },
  {
   "cell_type": "markdown",
   "metadata": {},
   "source": [
    "Let's check how many distinct TOP_PACK values we have:"
   ]
  },
  {
   "cell_type": "code",
   "execution_count": 19,
   "metadata": {},
   "outputs": [
    {
     "name": "stdout",
     "output_type": "stream",
     "text": [
      "Number of distinct values in TOP_PACK: 141\n"
     ]
    }
   ],
   "source": [
    "print(f'''Number of distinct values in TOP_PACK: {df[['TOP_PACK']].distinct().count()}''')"
   ]
  },
  {
   "cell_type": "markdown",
   "metadata": {},
   "source": [
    "With 141 different packages we would be hard-pressed to know which one of the 141 TOP_PACK values to impute into the nulls. Furthermore, to one-hot-encode 141 features would result in an explosion of features, and label encoding never seems like a good alternative for nominal variables as we run the risk of introducing some kind of implicit ordinal relationships which don't really exist (Brownlee, 2020).\n",
    "\n",
    "<u>__Data transformation tasks__</u>: \n",
    "\n",
    "- For now I'm going to extend our list of ```columns_to_drop``` and drop TOP_PACK as well. We can always circle back and consider including this feature again later if required."
   ]
  },
  {
   "cell_type": "code",
   "execution_count": 20,
   "metadata": {},
   "outputs": [],
   "source": [
    "columns_to_drop.extend(['TOP_PACK'])\n",
    "df = df.transform(lambda df: drop_columns(df, *columns_to_drop))"
   ]
  },
  {
   "cell_type": "markdown",
   "metadata": {},
   "source": [
    "#### _Numeric variables_\n",
    "\n",
    "Let's look at the numeric features next. In order to understand the scales of some of the numeric features, I established a few background facts:\n",
    "\n",
    "- The Senegalese currency is the West African CFA franc (ISO 4217 code XOF) (Wikipedia, 2023)\n",
    "- The average monthly wage in Q3 of 2023 was 106811 CFA, where the average monthly wage for a high-skilled employee was 382000 CFA (TAKE-PROFIT, 2023).\n",
    "- Some examples of costs of Expresso packages include:\n",
    "    - \"1 GB, valid for 1 day for CFA 700...\n",
    "    - 4 GB, valid for 30 days for CFA 2,000...\n",
    "    - 50 GB, valid for 30 days for CFA 10,000\" (Giroux, 2023)\n",
    "    \n",
    "From this information I was able to clarify for myself that when the English variable description reads 'monthly income of each client' it would be better translated as 'revenue received from each client' - it does not refer to the salary of the client!\n",
    "\n",
    "_NOTE:_ In the interests of brevity I'll demonstrate my process on the first set of numeric variables MONTANT and FREQUENCE and summarize the rest of my numeric variable findings and data transformation tasks."
   ]
  },
  {
   "cell_type": "markdown",
   "metadata": {},
   "source": [
    "#### MONTANT and FREQUENCE_RECH in detail\n",
    "\n",
    "MONTANT and FREQUENCE_RECH are related variables: MONTANT represents the top-up amount per client, and FREQUENCE_RECH represents the frequency of said top-ups. Both variables have exactly the same number of non-null entries (see 'count'):"
   ]
  },
  {
   "cell_type": "code",
   "execution_count": 21,
   "metadata": {},
   "outputs": [
    {
     "name": "stdout",
     "output_type": "stream",
     "text": [
      "+-------+----------------+------------------+\n",
      "|summary|         MONTANT|    FREQUENCE_RECH|\n",
      "+-------+----------------+------------------+\n",
      "|  count|         1397309|           1397309|\n",
      "|   mean|5532.11699774352|11.529119901181485|\n",
      "| stddev|7111.33942055855|13.274069546587215|\n",
      "|    min|            10.0|               1.0|\n",
      "|    max|        470000.0|             133.0|\n",
      "+-------+----------------+------------------+\n",
      "\n"
     ]
    }
   ],
   "source": [
    "vars_list = ['MONTANT', 'FREQUENCE_RECH']\n",
    "df[vars_list].describe().show()"
   ]
  },
  {
   "cell_type": "markdown",
   "metadata": {},
   "source": [
    "Let's look at the distribution of MONTANT and FREQUENCE_RECH. Both are right-skewed but MONTANT extremely so:"
   ]
  },
  {
   "cell_type": "code",
   "execution_count": 22,
   "metadata": {},
   "outputs": [
    {
     "data": {
      "image/png": "[encoded data removed]",
      "text/plain": [
       "<Figure size 504x360 with 1 Axes>"
      ]
     },
     "metadata": {},
     "output_type": "display_data"
    },
    {
     "data": {
      "image/png": "[encoded data removed]",
      "text/plain": [
       "<Figure size 504x360 with 1 Axes>"
      ]
     },
     "metadata": {},
     "output_type": "display_data"
    }
   ],
   "source": [
    "show_histogram(df, vars_list)"
   ]
  },
  {
   "cell_type": "markdown",
   "metadata": {},
   "source": [
    "Because it has extreme outliers, the median will give us a better indication of the relationship between MONTANT, FREQUENCE_RECH and our target variable CHURN. Here we see that churners spent significantly less on topups compared to non-churners and also topped up more frequently, meaning both variables should have some predictive value for our model:"
   ]
  },
  {
   "cell_type": "code",
   "execution_count": 23,
   "metadata": {},
   "outputs": [
    {
     "name": "stdout",
     "output_type": "stream",
     "text": [
      "+-----+--------------+\n",
      "|CHURN|MONTANT_median|\n",
      "+-----+--------------+\n",
      "|  0.0|        3250.0|\n",
      "|  1.0|        1000.0|\n",
      "+-----+--------------+\n",
      "\n",
      "+-----+---------------------+\n",
      "|CHURN|FREQUENCE_RECH_median|\n",
      "+-----+---------------------+\n",
      "|  0.0|                  7.0|\n",
      "|  1.0|                  2.0|\n",
      "+-----+---------------------+\n",
      "\n"
     ]
    }
   ],
   "source": [
    "show_metric_by_target(df, vars_list)"
   ]
  },
  {
   "cell_type": "markdown",
   "metadata": {},
   "source": [
    "We already saw that 35% of customers have null values for MONTANT and FREQUENCE_RECH. According to my understanding of the concept of top-up in mobile services, it is something one may or may not need to do depending on the nature of the service you are subscribed to and your individual usage.\n",
    "\n",
    "We are not given a timeframe for MONTANT and FREQUENCE_RECH so we can't know if these are all-time totals or numbers for a specific timeframe. However, given that the mean average monthly income of an individual is 106811 CFA (see above) we can certainly say that some of these amounts for MONTANT look extreme. The distribution graph above shows us most clients that top-up do so only up to 23510 CFA, with a very much smaller number topping up to 47009 CFA. Anything beyond this should be considered an outlier. Outliers can be problematic in machine learning models and there are several options for handling them, including dropping outlier records, or using IQR or z-score methods to reduce their effect (Jagdeesh, n.d.). However, my first go-to method will be to use a Robust Scaler (Apache Spark, 2023) on features like this because it scales 'features using statistics that are robust to outliers' (Scikit-Learn, 2023).\n",
    "\n",
    "<u>__Data transformation tasks__</u>: \n",
    "\n",
    "- Because of the extreme outliers I will start a list of ```columns_to_scale``` at the end of the process and add MONTANT to it. \n",
    "- Fill null entries for both MONTANT and FREQUENCE_RECH with 0 on the assumption that in these scenarios the user did not need to top-up. I will start a list of ```columns_to_fill_zeros``` and a function ```fill_zeros``` to fill the required columns with 0.0's."
   ]
  },
  {
   "cell_type": "code",
   "execution_count": 24,
   "metadata": {},
   "outputs": [],
   "source": [
    "columns_to_scale = ['MONTANT']\n",
    "columns_to_fill_zeros = ['MONTANT', 'FREQUENCE_RECH']\n",
    "def fill_zeros(df, columns):\n",
    "    '''Fill specified null values with 0'''\n",
    "    return df.fillna(0.0, subset=columns)\n",
    "df = df.transform(lambda df: fill_zeros(df, columns_to_fill_zeros))"
   ]
  },
  {
   "cell_type": "markdown",
   "metadata": {},
   "source": [
    "#### Remaining numeric variables\n",
    "\n",
    "Below are my findings on the remainder of the numeric variables:\n",
    "\n",
    "__REVENUE, ARPU_SEGMENT & FREQUENCE__ are also related variables. All 3 data points are significantly lower for churners compared to non-churners, so these variables should have predictive value for our model.\n",
    "\n",
    "__DATA_VOLUME__ represents the number of connections made. Churners have significantly fewer connections compared to non-churners.\n",
    "\n",
    "__ON_NET, ORANGE, TIGO, ZONE1 & ZONE2__ are also related variables, representing calls made to different networks. ZONE1 & ZONE2 looked to have low numbers of data points and low predictive values, but calls to ON_NET, ORANGE and TIGO have predictive value with non-churners making significantly more calls than churners.\n",
    "\n",
    "__REGULARITY__ represents the number of times a client is active for 90 days: unlike many of the other variables, it is not right-skewed and has no missing values - it can be used as-is.\n",
    "\n",
    "__FREQ_TOP_PACK__ represents the number of times the client activated the top packages. Although we dropped the TOP_PACK column there is no reason why we shouldn't retain this data point as it also looks like it has predictive value.\n",
    "\n",
    "<u>__Data transformation tasks__</u>: \n",
    "\n",
    "- The REVENUE, ARPU_SEGMENT, DATA_VOLUME, ON_NET, ORANGE, TIGO, FREQ_TOP_PACK distributions are all highly skewed so I will add these columns to our ```columns_to_scale``` list.\n",
    "- I will extend ```columns_to_fill_zeros``` by adding REVENUE, ARPU_SEGMENT, FREQUENCE, DATA_VOLUME, ON_NET, ORANGE, TIGO, FREQ_TOP_PACK on the assumption that null values mean no activity took place from the customer.\n",
    "- I will extend ```columns_to_drop``` by adding ZONE1 and ZONE2."
   ]
  },
  {
   "cell_type": "code",
   "execution_count": 25,
   "metadata": {},
   "outputs": [],
   "source": [
    "columns_to_scale.extend(['REVENUE', 'ARPU_SEGMENT', 'DATA_VOLUME', \n",
    "                         'ON_NET', 'ORANGE', 'TIGO', 'FREQ_TOP_PACK'])\n",
    "columns_to_fill_zeros.extend(['REVENUE', 'ARPU_SEGMENT', 'FREQUENCE', \n",
    "                              'DATA_VOLUME', 'ON_NET', 'ORANGE', 'TIGO', \n",
    "                              'FREQ_TOP_PACK'])\n",
    "columns_to_drop.extend(['ZONE1', 'ZONE2'])\n",
    "df = df.transform(lambda df: fill_zeros(df, columns_to_fill_zeros))\n",
    "df = df.transform(lambda df: drop_columns(df, *columns_to_drop))"
   ]
  },
  {
   "cell_type": "markdown",
   "metadata": {},
   "source": [
    "Our dataset should now have all non-null values and only the columns we want to include:"
   ]
  },
  {
   "cell_type": "code",
   "execution_count": 26,
   "metadata": {},
   "outputs": [
    {
     "name": "stdout",
     "output_type": "stream",
     "text": [
      "-RECORD 0--------------------------\n",
      " user_id_nonnulls        | 2154048 \n",
      " REGION_nonnulls         | 2154048 \n",
      " TENURE_nonnulls         | 2154048 \n",
      " MONTANT_nonnulls        | 2154048 \n",
      " FREQUENCE_RECH_nonnulls | 2154048 \n",
      " REVENUE_nonnulls        | 2154048 \n",
      " ARPU_SEGMENT_nonnulls   | 2154048 \n",
      " FREQUENCE_nonnulls      | 2154048 \n",
      " DATA_VOLUME_nonnulls    | 2154048 \n",
      " ON_NET_nonnulls         | 2154048 \n",
      " ORANGE_nonnulls         | 2154048 \n",
      " TIGO_nonnulls           | 2154048 \n",
      " REGULARITY_nonnulls     | 2154048 \n",
      " FREQ_TOP_PACK_nonnulls  | 2154048 \n",
      " CHURN_nonnulls          | 2154048 \n",
      "\n"
     ]
    }
   ],
   "source": [
    "df.agg(*[\n",
    "       (fn.count(c)).alias(c + '_nonnulls')\n",
    "       for c in df.columns\n",
    "]).show(vertical = True)"
   ]
  },
  {
   "cell_type": "markdown",
   "metadata": {},
   "source": [
    "#### Correlation between variables\n",
    "\n",
    "It is useful to get an idea of the correlations between each of our feature variables and our target variable CHURN. Not only can this information give us insights into feature selection (features that are highly correlated with the target variable may be particularly useful), but also some machine learning algorithms perform poorly when there is multicollinearity between feature variables."
   ]
  },
  {
   "cell_type": "code",
   "execution_count": 27,
   "metadata": {},
   "outputs": [
    {
     "data": {
      "image/png": "[encoded data removed]",
      "text/plain": [
       "<Figure size 720x720 with 2 Axes>"
      ]
     },
     "metadata": {},
     "output_type": "display_data"
    }
   ],
   "source": [
    "feats_for_corr = [c[0] for c in df.dtypes if c[1] == 'double']\n",
    "assembler = VectorAssembler(inputCols=feats_for_corr, outputCol='feats_for_corr')\n",
    "df_feats_for_corr = assembler.transform(df).select('feats_for_corr')\n",
    "\n",
    "corr_matrix = Correlation.corr(df_feats_for_corr, 'feats_for_corr')\n",
    "corr_matrix = corr_matrix.collect()[0][\"pearson({})\".format('feats_for_corr')].values.reshape(12, 12)\n",
    "\n",
    "plt.figure(figsize=(10,10))\n",
    "sns.heatmap(corr_matrix, xticklabels=feats_for_corr, yticklabels=feats_for_corr, annot=True, vmin = -1, vmax = 1)\n",
    "plt.title('Expresso variable correlations')\n",
    "plt.show()"
   ]
  },
  {
   "cell_type": "markdown",
   "metadata": {},
   "source": [
    "Above we can see the following are heavily correlated:\n",
    "\n",
    "- REVENUE and ARPU_SEGMENT have 100% correlation!\n",
    "- MONTANT and REVENUE as well as MONTANT and ARPU_SEGMENT have 98% correlation\n",
    "- FREQUENCE and FREQUENCE_RECH are also high at 96%\n",
    "- FREQUENCE_RECH and FREQ_TOP_PACK are fairly high at 0.89\n",
    "- FREQUENCE and FREQ_TOP_PACK are also fairly high at 0.87\n",
    "\n",
    "Some algorithms such as Random Forest or Gradient Boosting can handle multicollinearity among feature inputs but others like Logistic Regression perform less well so we need an option to be able to resolve the multicolinearities if required. There are a number of ways we can resolve multicollinearity issues: for now I will go with the simplest option which is to drop very highly correlated columns.\n",
    "\n",
    "By the given definition ARPU_SEGMENT is the income (or revenue) over 90 days / 3 which is why it is so similar to REVENUE. I will therefore drop ARPU_SEGMENT. Before deciding on what to do about MONTANT and REVENUE I wondered whether we could determine if REVENUE _includes_ MONTANT (those top-up amounts) or not so I checked for instances where MONTANT was greater than REVENUE and found that there were instances in all tenure groups, but more especially in the > 24 month group:"
   ]
  },
  {
   "cell_type": "code",
   "execution_count": 28,
   "metadata": {},
   "outputs": [
    {
     "name": "stdout",
     "output_type": "stream",
     "text": [
      "+-------------+------+\n",
      "|       TENURE|totals|\n",
      "+-------------+------+\n",
      "|  D 3-6 month|   301|\n",
      "|  E 6-9 month|   586|\n",
      "| F 9-12 month|  2200|\n",
      "|G 12-15 month|  2821|\n",
      "|H 15-18 month|  4877|\n",
      "|I 18-21 month|  8639|\n",
      "|J 21-24 month|  2379|\n",
      "| K > 24 month|476004|\n",
      "+-------------+------+\n",
      "\n"
     ]
    }
   ],
   "source": [
    "spark.sql(f'''SELECT \n",
    "              TENURE\n",
    "              , COUNT(*) AS totals\n",
    "              FROM sql_table WHERE MONTANT > REVENUE\n",
    "              GROUP BY 1 ORDER BY 1''').show()"
   ]
  },
  {
   "cell_type": "markdown",
   "metadata": {},
   "source": [
    "<u>__Data transformation tasks__</u>: \n",
    "\n",
    "- Clearly REVENUE does not include MONTANT. Because of this I decided that creating a new feature TOTAL_SPENT = REVENUE + MONTANT would be the best route to go in this instance, after which I can drop the original columns. This feature will also need to be scaled so add it to ```columns_to_scale```.\n",
    "- I will drop the correlated columns FREQ_TOP_PACK and FREQUENCE_RECH and just retain FREQUENCE.\n",
    "- These steps have been incorporated into the function ```resolve_mcollinear```\n",
    "\n",
    "We may not need to take this step for all models, so I will create a new DataFrame ```df_limited``` so we retain the option of using the full dataset currently represented by ```df``` if desired."
   ]
  },
  {
   "cell_type": "code",
   "execution_count": 29,
   "metadata": {},
   "outputs": [],
   "source": [
    "columns_to_scale.extend(['TOTAL_SPENT'])\n",
    "def resolve_mcollinear(df):\n",
    "    '''Drop or combine columns to remove high multicollinearity'''\n",
    "    return df.withColumn('TOTAL_SPENT', df['REVENUE'] + df['MONTANT']) \\\n",
    "             .drop('ARPU_SEGMENT', 'FREQ_TOP_PACK', 'FREQUENCE_RECH', 'REVENUE', 'MONTANT')\n",
    "df_limited = df.transform(resolve_mcollinear)"
   ]
  },
  {
   "cell_type": "markdown",
   "metadata": {
    "scrolled": true
   },
   "source": [
    "We now have 2 possible datasets we can use as inputs to our models: the full dataset with all columns we decided to include, and the limited dataset where highly correlated columns have been dropped:"
   ]
  },
  {
   "cell_type": "code",
   "execution_count": 30,
   "metadata": {},
   "outputs": [
    {
     "name": "stdout",
     "output_type": "stream",
     "text": [
      "Full dataset (df):\n",
      "root\n",
      " |-- user_id: string (nullable = true)\n",
      " |-- REGION: string (nullable = false)\n",
      " |-- TENURE: string (nullable = true)\n",
      " |-- MONTANT: double (nullable = false)\n",
      " |-- FREQUENCE_RECH: double (nullable = false)\n",
      " |-- REVENUE: double (nullable = false)\n",
      " |-- ARPU_SEGMENT: double (nullable = false)\n",
      " |-- FREQUENCE: double (nullable = false)\n",
      " |-- DATA_VOLUME: double (nullable = false)\n",
      " |-- ON_NET: double (nullable = false)\n",
      " |-- ORANGE: double (nullable = false)\n",
      " |-- TIGO: double (nullable = false)\n",
      " |-- REGULARITY: double (nullable = true)\n",
      " |-- FREQ_TOP_PACK: double (nullable = false)\n",
      " |-- CHURN: double (nullable = true)\n",
      "\n",
      "Limited dataset (df_limited):\n",
      "root\n",
      " |-- user_id: string (nullable = true)\n",
      " |-- REGION: string (nullable = false)\n",
      " |-- TENURE: string (nullable = true)\n",
      " |-- FREQUENCE: double (nullable = false)\n",
      " |-- DATA_VOLUME: double (nullable = false)\n",
      " |-- ON_NET: double (nullable = false)\n",
      " |-- ORANGE: double (nullable = false)\n",
      " |-- TIGO: double (nullable = false)\n",
      " |-- REGULARITY: double (nullable = true)\n",
      " |-- CHURN: double (nullable = true)\n",
      " |-- TOTAL_SPENT: double (nullable = false)\n",
      "\n"
     ]
    }
   ],
   "source": [
    "print('Full dataset (df):')\n",
    "df.printSchema()\n",
    "print('Limited dataset (df_limited):')\n",
    "df_limited.printSchema()"
   ]
  },
  {
   "cell_type": "markdown",
   "metadata": {},
   "source": [
    "## 1.3 Hypothesis\n",
    "\n",
    "Given what we have seen above, each of the feature variables has a reasonable degree of correlation with the target, with REGULARITY being the most correlated at -0.48. Building a model to predict whether a customer will churn or not  looks feasible. In the following section I will investigate which models and combinations of parameters work best on this dataset and select a final model that we could look at productionizing."
   ]
  },
  {
   "cell_type": "markdown",
   "metadata": {},
   "source": [
    "## 1.4 Planned analysis\n",
    "\n",
    "I will be evaluating 3 binary classification models: LogisticRegression, RandomForestClassifier and GBTClassifier. To do so I will:\n",
    "\n",
    "1. Draw a sample of our data to be used for model evaluation\n",
    "2. Handle basic data transformation tasks as described above\n",
    "3. Build a pipeline to handle data preparation\n",
    "4. Implement cross-validation on a sample of our dataset to evaluate the  results of different models and combinations of hyperparameters\n",
    "5. Select the best model and train on the full dataset to get our final estimator\n",
    "6. Use the resulting model - our final transformer - to predict on a hold-out test set and evaluate"
   ]
  },
  {
   "cell_type": "markdown",
   "metadata": {},
   "source": [
    "# 2. Implementation\n",
    "\n",
    "To demonstrate the complete process I will read in the data from scratch and then proceed with the steps outlined above.\n",
    "\n",
    "## 2.1 Train/test splits\n",
    "\n",
    "First we want to use cross-validation to help us select the best model and model parameters. Cross-validation runtimes can be prohibitively long on a large dataset since each algorithm and hyperparmeter combination is fitted and evaluated multiple times. This makes it a much more reliable estimator of actual performance but also means that it may take a long time to run to completion. To mitigate against this I will be using a sample of my dataset for the evaluation phase, and will only use the full training set to train the final model, and then of course the holdout test set at the end for final evaluation of performance. The data will be split as follows:\n",
    "\n",
    "![Train-Test Splits](train-test-splits.png)"
   ]
  },
  {
   "cell_type": "markdown",
   "metadata": {},
   "source": [
    "Below we can see that the class imbalance is preserved at each split:"
   ]
  },
  {
   "cell_type": "code",
   "execution_count": 31,
   "metadata": {},
   "outputs": [
    {
     "name": "stdout",
     "output_type": "stream",
     "text": [
      "Original class ratios (100% of data):\n",
      "+-----+-------+-----------+\n",
      "|CHURN| totals|percentages|\n",
      "+-----+-------+-----------+\n",
      "|    0|1750062|     0.8125|\n",
      "|    1| 403986|     0.1875|\n",
      "+-----+-------+-----------+\n",
      "\n",
      "train_df class ratios (70% of df):\n",
      "+-----+-------+-----------+\n",
      "|CHURN| totals|percentages|\n",
      "+-----+-------+-----------+\n",
      "|    0|1224250|     0.8123|\n",
      "|    1| 282835|     0.1877|\n",
      "+-----+-------+-----------+\n",
      "\n",
      "test_df class ratios (30% of df):\n",
      "+-----+------+-----------+\n",
      "|CHURN|totals|percentages|\n",
      "+-----+------+-----------+\n",
      "|    0|525812|     0.8127|\n",
      "|    1|121151|     0.1873|\n",
      "+-----+------+-----------+\n",
      "\n",
      "Sample class ratios (60% of train_df):\n",
      "+-----+------+-----------+\n",
      "|CHURN|totals|percentages|\n",
      "+-----+------+-----------+\n",
      "|    0|735268|     0.8124|\n",
      "|    1|169801|     0.1876|\n",
      "+-----+------+-----------+\n",
      "\n",
      "train_sample class ratios (70% of sample):\n",
      "(28.999999999999996% of data to be used for model selection)\n",
      "+-----+------+-----------+\n",
      "|CHURN|totals|percentages|\n",
      "+-----+------+-----------+\n",
      "|    0|514547|     0.8126|\n",
      "|    1|118685|     0.1874|\n",
      "+-----+------+-----------+\n",
      "\n",
      "test_sample class ratios (30% of sample):\n",
      "+-----+------+-----------+\n",
      "|CHURN|totals|percentages|\n",
      "+-----+------+-----------+\n",
      "|    0|220721|      0.812|\n",
      "|    1| 51116|      0.188|\n",
      "+-----+------+-----------+\n",
      "\n"
     ]
    }
   ],
   "source": [
    "# Read in our df\n",
    "df = spark.read.csv(\"hdfs://lena/user/<username>/coursework2/expresso_train.csv\", inferSchema = True, header= True)\n",
    "print('Original class ratios (100% of data):')\n",
    "show_categorical(df, 'CHURN')\n",
    "\n",
    "# Split df into train_df and test_df\n",
    "train_df, test_df = df.randomSplit([0.7,0.3])\n",
    "print('train_df class ratios (70% of df):')\n",
    "show_categorical(train_df, 'CHURN')\n",
    "print('test_df class ratios (30% of df):')\n",
    "show_categorical(test_df, 'CHURN')\n",
    "\n",
    "# Sample from train_df to get a reduced dataset for model selection\n",
    "sample = train_df.sample(fraction=0.6, seed=42)\n",
    "print('Sample class ratios (60% of train_df):')\n",
    "show_categorical(sample, 'CHURN')\n",
    "\n",
    "# Split sample into train_sample and test_sample\n",
    "train_sample, test_sample = sample.randomSplit([0.7,0.3])\n",
    "print(f'''train_sample class ratios (70% of sample):\n",
    "({round(train_sample.count() / df.count(), 2) * 100}% of data to be used for model selection)''')\n",
    "show_categorical(train_sample, 'CHURN')\n",
    "print('test_sample class ratios (30% of sample):')\n",
    "show_categorical(test_sample, 'CHURN')"
   ]
  },
  {
   "cell_type": "markdown",
   "metadata": {},
   "source": [
    "## 2.2 Data transformations\n",
    "\n",
    "As a reminder, the following lists and functions were defined in the process above:"
   ]
  },
  {
   "cell_type": "code",
   "execution_count": 32,
   "metadata": {},
   "outputs": [
    {
     "name": "stdout",
     "output_type": "stream",
     "text": [
      "doubles = \n",
      "['MONTANT', 'FREQUENCE_RECH', 'REVENUE', 'ARPU_SEGMENT', 'FREQUENCE',\n",
      " 'DATA_VOLUME', 'ON_NET', 'ORANGE', 'TIGO', 'ZONE1', 'ZONE2', 'REGULARITY',\n",
      " 'FREQ_TOP_PACK', 'CHURN']\n",
      "columns_to_drop = \n",
      "['MRG', 'TOP_PACK', 'ZONE1', 'ZONE2']\n",
      "columns_to_fill_zeros = \n",
      "['MONTANT', 'FREQUENCE_RECH', 'REVENUE', 'ARPU_SEGMENT', 'FREQUENCE',\n",
      " 'DATA_VOLUME', 'ON_NET', 'ORANGE', 'TIGO', 'FREQ_TOP_PACK']\n",
      "columns_to_scale = \n",
      "['MONTANT', 'REVENUE', 'ARPU_SEGMENT', 'DATA_VOLUME', 'ON_NET', 'ORANGE',\n",
      " 'TIGO', 'FREQ_TOP_PACK', 'TOTAL_SPENT']\n",
      "\n",
      "\n",
      "def cast_to_double(df, columns):\n",
      "    '''Transform required columns to double type'''\n",
      "    return df.select(\n",
      "                *(c for c in df.columns if c not in columns),\n",
      "                *(fn.col(c).cast('double').alias(c) for c in columns)\n",
      "               )\n",
      "\n",
      "def cast_to_double(df, columns):\n",
      "    '''Transform required columns to double type'''\n",
      "    return df.select(\n",
      "                *(c for c in df.columns if c not in columns),\n",
      "                *(fn.col(c).cast('double').alias(c) for c in columns)\n",
      "               )\n",
      "\n",
      "def cast_to_double(df, columns):\n",
      "    '''Transform required columns to double type'''\n",
      "    return df.select(\n",
      "                *(c for c in df.columns if c not in columns),\n",
      "                *(fn.col(c).cast('double').alias(c) for c in columns)\n",
      "               )\n",
      "\n",
      "def cast_to_double(df, columns):\n",
      "    '''Transform required columns to double type'''\n",
      "    return df.select(\n",
      "                *(c for c in df.columns if c not in columns),\n",
      "                *(fn.col(c).cast('double').alias(c) for c in columns)\n",
      "               )\n",
      "\n",
      "def cast_to_double(df, columns):\n",
      "    '''Transform required columns to double type'''\n",
      "    return df.select(\n",
      "                *(c for c in df.columns if c not in columns),\n",
      "                *(fn.col(c).cast('double').alias(c) for c in columns)\n",
      "               )\n",
      "\n"
     ]
    }
   ],
   "source": [
    "for listicle in [('doubles', doubles), \n",
    "                 ('columns_to_drop', columns_to_drop), \n",
    "                 ('columns_to_fill_zeros', columns_to_fill_zeros), \n",
    "                 ('columns_to_scale', columns_to_scale)]:\n",
    "    print(f'''{listicle[0]} = ''')\n",
    "    pprint(listicle[1], compact = True)\n",
    "print('\\n')\n",
    "for functions in [cast_to_double, fill_region, drop_columns, fill_zeros, resolve_mcollinear]:\n",
    "    definitions = inspect.getsource(cast_to_double)\n",
    "    print(definitions)"
   ]
  },
  {
   "cell_type": "markdown",
   "metadata": {},
   "source": [
    "In the interests of time I will use the version of our dataset that resolves multicollinearity issues to test all 3 models. In practice one would want to test both versions with RandomForest and GBTClassifier (which can tolerate multicollinearity) to see if one performs better than the other. Let's run the data transformation functions on the sampled train and test sets:"
   ]
  },
  {
   "cell_type": "code",
   "execution_count": 33,
   "metadata": {},
   "outputs": [],
   "source": [
    "# Train transformation\n",
    "train_sample = (train_sample.transform(lambda df: cast_to_double(df, doubles))\n",
    "                .transform(lambda df: fill_region(df))\n",
    "                .transform(lambda df: drop_columns(df, *columns_to_drop))\n",
    "                .transform(lambda df: fill_zeros(df, columns_to_fill_zeros))\n",
    "                .transform(lambda df: resolve_mcollinear(df))\n",
    "                  )\n",
    "\n",
    "# Test transformation\n",
    "test_sample = (test_sample.transform(lambda df: cast_to_double(df, doubles))\n",
    "                .transform(lambda df: fill_region(df))\n",
    "                .transform(lambda df: drop_columns(df, *columns_to_drop))\n",
    "                .transform(lambda df: fill_zeros(df, columns_to_fill_zeros))\n",
    "                .transform(lambda df: resolve_mcollinear(df))\n",
    "                  )"
   ]
  },
  {
   "cell_type": "markdown",
   "metadata": {},
   "source": [
    "## 2.3 Data preparation pipeline\n",
    "\n",
    "<u>__Outliers__</u>:\n",
    "\n",
    "Logistic regression assumes no extreme outliers (Zach, 2020). However, Random forest and Gradient boosting can also be sensitive to outliers (user603, 2015), (Zottie, 2016) so for all our models I will use the RobustScaler to reduce their effect as discussed previously.\n",
    "\n",
    "<u>__Ranges__</u>:\n",
    "\n",
    "Different features in our dataset have different ranges: for example number of connections were relatively smaller numbers compared with revenue which is measured in currency. It is best practice to scale all features to be in the same range so that each feature can contribute equally to the model. I will use the MinMaxScaler on all numeric features (Apache Spark, 2023). This will ensure that all feature values fall between 0 and 1.\n",
    "\n",
    "<u>__One-hot-encoding__</u>:\n",
    "\n",
    "All of our categorical features are nominal rather than ordinal so this is the most approprate choice.\n",
    "\n",
    "Our data preparation pipeline should therefore cater for the following:\n",
    "\n",
    "1. One-hot-encode categorical features\n",
    "2. Perform robust scaling on highly skewed features identified above\n",
    "3. Perform minmax scaling on all numeric features \n",
    "4. Assemble final vector of features"
   ]
  },
  {
   "cell_type": "code",
   "execution_count": 34,
   "metadata": {},
   "outputs": [],
   "source": [
    "def assemble_data_pipeline(df, columns_to_scale = columns_to_scale):\n",
    "    '''Takes in one of the df variants and the list of columns to scale, \n",
    "    and sets up the pipeline stages to do data transformation'''\n",
    "    oh_columns = [c[0] for c in df.dtypes if c[1] == 'string' and c[0] != 'user_id']\n",
    "    db_columns = [c[0] for c in df.dtypes if c[1] == 'double' and c[0] != 'user_id']\n",
    "    sc_columns = [c[0] for c in df.dtypes if c[1] == 'double' and c[0] in columns_to_scale]\n",
    "    nm_columns = [c for c in db_columns if c not in sc_columns and c!= 'CHURN']\n",
    "    \n",
    "    stages = [] \n",
    "    \n",
    "    # Perform one-hot encoding on categorical features\n",
    "    for c in oh_columns:\n",
    "        indexer = StringIndexer(inputCol=c, outputCol=c + '_ind')\n",
    "        encoder = OneHotEncoder(inputCols=[indexer.getOutputCol()], \\\n",
    "                outputCols=[c + '_oh'])    \n",
    "        stages += [indexer, encoder] \n",
    "    \n",
    "    # Assemble a vector of features that require robust scaler\n",
    "    sc_assembler = VectorAssembler(inputCols=sc_columns, outputCol='sc_features')\n",
    "    stages += [sc_assembler]\n",
    "\n",
    "    # Perform robust scaling\n",
    "    robust_scaler = RobustScaler(inputCol='sc_features', outputCol = 'robust_features')\n",
    "    stages +=[robust_scaler]\n",
    "\n",
    "    # Assemble a vector of the rest of the numeric features that don't require robust scaler\n",
    "    nm_assembler = VectorAssembler(inputCols=nm_columns, outputCol='nm_features')\n",
    "    stages += [nm_assembler]\n",
    "\n",
    "    # For all numeric features do minmax scaling\n",
    "    for c in ['robust_features', 'nm_features']:\n",
    "        minmax_scaler = MinMaxScaler(min=0.0, max=1.0, inputCol=c, outputCol=c + '_minmax')\n",
    "        stages += [minmax_scaler]\n",
    "    \n",
    "    # Assemble a vector of our final features\n",
    "    finalizer = VectorAssembler(inputCols=['robust_features_minmax', 'nm_features_minmax', 'REGION_oh','TENURE_oh'],\n",
    "                                outputCol='final_features')\n",
    "    stages += [finalizer]\n",
    "\n",
    "    return Pipeline(stages=stages)"
   ]
  },
  {
   "cell_type": "code",
   "execution_count": 35,
   "metadata": {},
   "outputs": [
    {
     "name": "stdout",
     "output_type": "stream",
     "text": [
      "+--------------------+--------------------+-----+\n",
      "|             user_id|      final_features|CHURN|\n",
      "+--------------------+--------------------+-----+\n",
      "|00000cb4a5d760de8...|(28,[6,7,22],[0.0...|  1.0|\n",
      "+--------------------+--------------------+-----+\n",
      "only showing top 1 row\n",
      "\n"
     ]
    }
   ],
   "source": [
    "# Get vectorized features and label for sample\n",
    "sample_pipeline = assemble_data_pipeline(train_sample)\n",
    "sample_estimator = sample_pipeline.fit(train_sample)\n",
    "train_sample_features = sample_estimator.transform(train_sample).select(['user_id', 'final_features', 'CHURN'])\n",
    "test_sample_features = sample_estimator.transform(test_sample).select(['user_id', 'final_features', 'CHURN'])\n",
    "train_sample_features.show(1)"
   ]
  },
  {
   "cell_type": "markdown",
   "metadata": {},
   "source": [
    "## 2.4 Cross-validation and model evaluation\n",
    "\n",
    "In this section I will use ParamGridBuilder to define a hyperparameter search space for each model. I will then use the CrossValidator to iterate through the hyperparameter space, and determine the best model, based on our chosen metric areaUnderROC. In a real-world situation one would explore the space quite widely, however, in the interests of time I will only experiment with a small number of options for each model to illustrate the process. \n",
    "\n",
    "LogisticRegression's performance was quite fast so I searched a slightly wider space. The RandomForestClassifier was relatively slower, and the GBTClassifier even slower, so I have only defined a small search space for each of these.\n",
    "\n",
    "First let's setup a binary classification evaluator. I have selected areaUnderROC as our evaluation metric:"
   ]
  },
  {
   "cell_type": "code",
   "execution_count": 36,
   "metadata": {},
   "outputs": [],
   "source": [
    "evaluator = BinaryClassificationEvaluator(labelCol='CHURN', \n",
    "                                          rawPredictionCol='rawPrediction', \n",
    "                                          metricName='areaUnderROC')"
   ]
  },
  {
   "cell_type": "markdown",
   "metadata": {},
   "source": [
    "I tested cross-validation runtimes with and without persisting ```train_sample_features```, and persisting resulted in a good improvement (see 2.4.4 Model selection for details) so I will do that before we begin. Note the __persist()__ method, unlike __cache()__, lets you specify a storage level but the default used here is both memory and disk (Apache Spark 2023). It is useful in the situation of cross-validation because the same dataframe will need to be accessed repeatedly and this will be faster if it is already in memory."
   ]
  },
  {
   "cell_type": "code",
   "execution_count": 37,
   "metadata": {},
   "outputs": [
    {
     "data": {
      "text/plain": [
       "DataFrame[user_id: string, final_features: vector, CHURN: double]"
      ]
     },
     "execution_count": 37,
     "metadata": {},
     "output_type": "execute_result"
    }
   ],
   "source": [
    "train_sample_features.persist()"
   ]
  },
  {
   "cell_type": "markdown",
   "metadata": {},
   "source": [
    "### 2.4.1 LogisticRegression\n",
    "\n",
    "LogisticRegression is \"the benchmark model for classification. The logistic regression uses a logit function to calculate the probability of an observation belonging to a particular class\"  (Drabas & Lee, 2017, p. 101). Binomial logistic regression is used with a binary target variable e.g. churn / not churn (McDonald, 2014, p. 250). I will test LogisticRegression with different values of ```maxIter``` (maximum number of iterations after which to stop if convergence was not reached) and ```regParam``` (or regularization parameter which can be tuned to prevent overfitting). The other commonly tuned parameter is ```elasticNetParam``` which is a mixing parameter where 0 = L2 penalty and 1 = L1 penalty (Apache Spark, 2023), but here I will be using the default. \n",
    "\n",
    "The hyperparameter search space is a reduced subset of the suggestions from Sparkitecture (Ford, 2019).\n",
    "\n",
    "\\[NOTE: To marker - to run a small subset more quickly, use the alternate ```lr_searchspace``` under the comment __# Reduced searchspace__]"
   ]
  },
  {
   "cell_type": "code",
   "execution_count": 38,
   "metadata": {},
   "outputs": [
    {
     "name": "stdout",
     "output_type": "stream",
     "text": [
      "Cross-validation performance using LogisticRegression:\n",
      "------------------------------------------------------\n",
      "searchspace:       12 combinations \n",
      "runtime:           131.8593 seconds\n",
      "mean runtime:      10.9883 seconds\n",
      "\n",
      "Best model metrics using LogisticRegression:\n",
      "------------------------------------------------------\n",
      "maxIter:           10\n",
      "regParam:          0.01\n",
      "elasticNetParam:   0.0\n",
      "areaUnderROC:      0.9264\n"
     ]
    }
   ],
   "source": [
    "# Instantiate the model\n",
    "lr = LogisticRegression(featuresCol='final_features',labelCol='CHURN')\n",
    "\n",
    "lr_searchspace = {'maxIter': [5, 10, 20],\n",
    "                  'regParam': [0.01, 0.1, 0.5, 1.0]}\n",
    "# Reduced searchspace\n",
    "# lr_searchspace = {'maxIter': [10],\n",
    "#                   'regParam': [0.01]}\n",
    "lr_combinations = len(list(itertools.product(*lr_searchspace.values())))\n",
    "\n",
    "# Setup the parameter grid\n",
    "lr_param_grid = (ParamGridBuilder()\n",
    "                 .addGrid(lr.maxIter, lr_searchspace['maxIter'])\n",
    "                 .addGrid(lr.regParam, lr_searchspace['regParam'])\n",
    "                 .build())\n",
    "\n",
    "# Instantiate cross-validation\n",
    "lr_cv = CrossValidator(estimator=lr,\n",
    "                       estimatorParamMaps=lr_param_grid,\n",
    "                       evaluator=evaluator,\n",
    "                       numFolds=3,\n",
    "                       seed=8,\n",
    "                       collectSubModels=True,\n",
    "                       parallelism = 2)\n",
    "\n",
    "# Run cross validation\n",
    "start_time = time.time()\n",
    "lr_cv_model = lr_cv.fit(train_sample_features)\n",
    "lr_run_time = round(time.time() - start_time, 4)\n",
    "\n",
    "# Display time metrics\n",
    "print(f'''Cross-validation performance using LogisticRegression:\n",
    "------------------------------------------------------\n",
    "searchspace:       {lr_combinations} combinations \n",
    "runtime:           {lr_run_time} seconds\n",
    "mean runtime:      {round(lr_run_time / lr_combinations, 4)} seconds''')\n",
    "\n",
    "# Display performance metrics\n",
    "best_lr_model = lr_cv_model.bestModel\n",
    "auc_lr = evaluator.evaluate(lr_cv_model.transform(test_sample_features))\n",
    "print(f'''\n",
    "Best model metrics using LogisticRegression:\n",
    "------------------------------------------------------\n",
    "maxIter:           {best_lr_model.getMaxIter()}\n",
    "regParam:          {best_lr_model.getRegParam()}\n",
    "elasticNetParam:   {best_lr_model.getElasticNetParam()}\n",
    "areaUnderROC:      {round(auc_lr, 4)}''')"
   ]
  },
  {
   "cell_type": "markdown",
   "metadata": {},
   "source": [
    "### 2.4.2 RandomForestClassifier\n",
    "\n",
    "The RandomForestClassifier \"produces multiple decision trees (hence the name—forest) and uses the mode output of those decision trees to classify observations\" (Drabas & Lee, 2017, p. 102). I will test RandomForestClassifier with different values of ```numTrees``` (number of trees to train), ```maxDepth``` (maximum depth for trees) which are the 2 most commonly tuned hyperparameters of RandomForest (Apache Spark, 2023). \n",
    "\n",
    "The hyperparameter search space is again a reduced subset of the suggestions from Sparkitecture (Ford, 2019).\n",
    "\n",
    "\\[NOTE: To marker - to run a small subset more quickly, use the alternate ```rf_searchspace``` under the comment __# Reduced searchspace__]"
   ]
  },
  {
   "cell_type": "code",
   "execution_count": 39,
   "metadata": {},
   "outputs": [
    {
     "name": "stdout",
     "output_type": "stream",
     "text": [
      "Cross-validation performance using RandomForest:\n",
      "------------------------------------------------------\n",
      "searchspace:       6 combinations \n",
      "runtime:           286.7742 seconds\n",
      "mean runtime:      47.7957 seconds\n",
      "\n",
      "Best model metrics using RandomForest:\n",
      "------------------------------------------------------\n",
      "numTrees:          20\n",
      "maxDepth:          15\n",
      "areaUnderROC:      0.9289\n"
     ]
    }
   ],
   "source": [
    "# Instantiate the model\n",
    "rf = RandomForestClassifier(featuresCol='final_features',labelCol='CHURN')\n",
    "\n",
    "rf_searchspace = {'numTrees': [10, 20],\n",
    "                  'maxDepth': [5, 10, 15]}\n",
    "# Reduced searchspace\n",
    "# rf_searchspace = {'numTrees': [20],\n",
    "#                   'maxDepth': [15]}\n",
    "rf_combinations = len(list(itertools.product(*rf_searchspace.values())))\n",
    "\n",
    "# Setup the parameter grid\n",
    "rf_param_grid = (ParamGridBuilder()\n",
    "                 .addGrid(rf.numTrees, rf_searchspace['numTrees'])\n",
    "                 .addGrid(rf.maxDepth, rf_searchspace['maxDepth'])\n",
    "                 .build())\n",
    "\n",
    "# Instantiate cross-validation\n",
    "rf_cv = CrossValidator(estimator=rf,\n",
    "                       estimatorParamMaps=rf_param_grid,\n",
    "                       evaluator=evaluator,\n",
    "                       numFolds=3,\n",
    "                       seed=8,\n",
    "                       collectSubModels=True,\n",
    "                       parallelism = 2)\n",
    "\n",
    "# Run cross validation\n",
    "start_time = time.time()\n",
    "rf_cv_model = rf_cv.fit(train_sample_features)\n",
    "rf_run_time = round(time.time() - start_time, 4)\n",
    "\n",
    "# Display time metrics\n",
    "print(f'''Cross-validation performance using RandomForest:\n",
    "------------------------------------------------------\n",
    "searchspace:       {rf_combinations} combinations \n",
    "runtime:           {rf_run_time} seconds\n",
    "mean runtime:      {round(rf_run_time / rf_combinations, 4)} seconds''')\n",
    "\n",
    "# Display performance metrics\n",
    "best_rf_model = rf_cv_model.bestModel\n",
    "auc_rf = evaluator.evaluate(rf_cv_model.transform(test_sample_features))\n",
    "print(f'''\n",
    "Best model metrics using RandomForest:\n",
    "------------------------------------------------------\n",
    "numTrees:          {best_rf_model.getNumTrees}\n",
    "maxDepth:          {best_rf_model.getMaxDepth()}\n",
    "areaUnderROC:      {round(auc_rf, 4)}''')"
   ]
  },
  {
   "cell_type": "markdown",
   "metadata": {},
   "source": [
    "### 2.4.2 GBTClassifier\n",
    "\n",
    "The GBTClassifier is a \"Gradient Boosted Trees model for classification. The model belongs to the family of ensemble models: models that combine multiple weak predictive models to form a strong one\" (Drabas & Lee, 2017, p. 102). I will test the GBTClassifier with different values of ```maxIter``` ((maximum number of iterations after which to stop if convergence was not reached)), ```maxDepth``` (maximum depth for trees) which are the 2 most fundamental hyperparameters of the GBTClassifier (Apache Spark, 2023). \n",
    "\n",
    "The hyperparameter search space is again a reduced subset of the suggestions from Sparkitecture (Ford, 2019).\n",
    "\n",
    "\\[NOTE: To marker - to run a small subset more quickly, use the alternate ```gb_searchspace``` under the comment __# Reduced searchspace__]"
   ]
  },
  {
   "cell_type": "code",
   "execution_count": 40,
   "metadata": {},
   "outputs": [
    {
     "name": "stdout",
     "output_type": "stream",
     "text": [
      "Cross-validation performance using GBTClassifier:\n",
      "------------------------------------------------------\n",
      "searchspace:       4 combinations \n",
      "runtime:           299.1402 seconds\n",
      "mean runtime:      74.785 seconds\n",
      "\n",
      "Best model metrics using GBTClassifier:\n",
      "------------------------------------------------------\n",
      "maxIter:           20\n",
      "maxDepth:          5\n",
      "areaUnderROC:      0.9309\n"
     ]
    }
   ],
   "source": [
    "# Instantiate the model\n",
    "gb = GBTClassifier(featuresCol='final_features',labelCol='CHURN')\n",
    "\n",
    "gb_searchspace = {'maxIter': [10, 20],\n",
    "                  'maxDepth': [5, 10]}\n",
    "# Reduced searchspace\n",
    "# gb_searchspace = {'maxIter': [20],\n",
    "#                   'maxDepth': [5]}\n",
    "gb_combinations = len(list(itertools.product(*gb_searchspace.values())))\n",
    "\n",
    "# Setup the parameter grid\n",
    "gb_param_grid = (ParamGridBuilder()\n",
    "                 .addGrid(gb.maxIter, gb_searchspace['maxIter'])\n",
    "                 .addGrid(gb.maxDepth, gb_searchspace['maxDepth'])\n",
    "                 .build())\n",
    "\n",
    "# Instantiate cross-validation\n",
    "gb_cv = CrossValidator(estimator=gb,\n",
    "                       estimatorParamMaps=gb_param_grid,\n",
    "                       evaluator=evaluator,\n",
    "                       numFolds=3,\n",
    "                       seed=8,\n",
    "                       collectSubModels=True,\n",
    "                       parallelism = 2)\n",
    "\n",
    "\n",
    "# Run cross validation\n",
    "start_time = time.time()\n",
    "gb_cv_model = gb_cv.fit(train_sample_features)\n",
    "gb_run_time = round(time.time() - start_time, 4)\n",
    "\n",
    "# Display time metrics\n",
    "print(f'''Cross-validation performance using GBTClassifier:\n",
    "------------------------------------------------------\n",
    "searchspace:       {gb_combinations} combinations \n",
    "runtime:           {gb_run_time} seconds\n",
    "mean runtime:      {round(gb_run_time / gb_combinations, 4)} seconds''')\n",
    "\n",
    "# Display performance metrics\n",
    "best_gb_model = gb_cv_model.bestModel\n",
    "auc_gb = evaluator.evaluate(gb_cv_model.transform(test_sample_features))\n",
    "print(f'''\n",
    "Best model metrics using GBTClassifier:\n",
    "------------------------------------------------------\n",
    "maxIter:           {best_gb_model.getMaxIter()}\n",
    "maxDepth:          {best_gb_model.getMaxDepth()}\n",
    "areaUnderROC:      {round(auc_gb, 4)}''')"
   ]
  },
  {
   "cell_type": "code",
   "execution_count": 41,
   "metadata": {},
   "outputs": [
    {
     "data": {
      "text/plain": [
       "DataFrame[user_id: string, final_features: vector, CHURN: double]"
      ]
     },
     "execution_count": 41,
     "metadata": {},
     "output_type": "execute_result"
    }
   ],
   "source": [
    "# Unpersist train_sample_features once we're done with it\n",
    "train_sample_features.unpersist()"
   ]
  },
  {
   "cell_type": "markdown",
   "metadata": {},
   "source": [
    "### 2.4.4 Model selection\n",
    "\n",
    "Following is a summary of the performance metrics obtained:\n",
    "\n",
    "| Model | Mean Runtime | areaUnderROC |\n",
    "| --- | --- | --- |\n",
    "| LogisticRegression | 10.9883 seconds | 0.9264 |\n",
    "| RandomForestClassifier | 47.7957 seconds | 0.9289 |\n",
    "| GBTClassifier | 74.7850 seconds | 0.9309 |\n",
    "\n",
    "From the above we can see that in terms of our metric areaUnderROC, all 3 models produced results that were very similar. However LogisticRegression is considerably faster. In business this is often a powerful deciding factor, both because of cost implications and in terms of the capacity to train and predict on a fast turnaround if required. For this reason I am selecting LogisticRegression as my final model of choice, even though (but only by a small margin) it had the lowest areaUnderROC.\n",
    "\n",
    "As a matter of interest the Mean Runtimes without persisting the training dataframe were 15.6356 seconds, 67.3880 seconds and 105.1097 seconds respectively - this simple performance measure made a significant difference, and would definitely be recommended if we were to do a wider exploration of hyperparameters and/or use a larger training set."
   ]
  },
  {
   "cell_type": "markdown",
   "metadata": {},
   "source": [
    "## 2.5 Training and evaluating the final model\n",
    "\n",
    "Our final step is to train our chosen model on the full training dataset and test it on the holdout test set. This will tell us whether cross-validation on a sample of our data was representative enough of the problem as a whole. If it was we should expect a similar areaUnderROC on the holdout test set.\n",
    "\n",
    "First let's prepare our data:"
   ]
  },
  {
   "cell_type": "code",
   "execution_count": 42,
   "metadata": {},
   "outputs": [],
   "source": [
    "# Run transformation functions on the sampled train and test sets\n",
    "train_full = (train_df.transform(lambda df: cast_to_double(df, doubles))\n",
    "                      .transform(lambda df: fill_region(df))\n",
    "                      .transform(lambda df: drop_columns(df, *columns_to_drop))\n",
    "                      .transform(lambda df: fill_zeros(df, columns_to_fill_zeros))\n",
    "                      .transform(lambda df: resolve_mcollinear(df)))\n",
    "\n",
    "# Run transformation functions\n",
    "test_full = (test_df.transform(lambda df: cast_to_double(df, doubles))\n",
    "                    .transform(lambda df: fill_region(df))\n",
    "                    .transform(lambda df: drop_columns(df, *columns_to_drop))\n",
    "                    .transform(lambda df: fill_zeros(df, columns_to_fill_zeros))\n",
    "                    .transform(lambda df: resolve_mcollinear(df)))\n",
    "\n",
    "# Get vectorized features and labels and persist train_full\n",
    "final_pipeline = assemble_data_pipeline(train_full)\n",
    "final_estimator = final_pipeline.fit(train_full)\n",
    "train_features = final_estimator.transform(train_full).select(['user_id', 'final_features', 'CHURN'])\n",
    "train_features.persist()\n",
    "test_features = final_estimator.transform(test_full).select(['user_id', 'final_features', 'CHURN'])"
   ]
  },
  {
   "cell_type": "markdown",
   "metadata": {},
   "source": [
    "Now we can train the final model and generate predictions on the holdout test set:"
   ]
  },
  {
   "cell_type": "code",
   "execution_count": 43,
   "metadata": {},
   "outputs": [],
   "source": [
    "final_lr = LogisticRegression(featuresCol='final_features',\n",
    "                              labelCol='CHURN',\n",
    "                              maxIter = best_lr_model.getMaxIter(),\n",
    "                              regParam = best_lr_model.getRegParam(),\n",
    "                              elasticNetParam = best_lr_model.getElasticNetParam())\n",
    "\n",
    "final_lr_model = final_lr.fit(train_features)\n",
    "train_features.unpersist()\n",
    "\n",
    "predictions = final_lr_model.transform(test_features)"
   ]
  },
  {
   "cell_type": "markdown",
   "metadata": {},
   "source": [
    "The final areaUnderROC is 0.9255 which is very similar to the metric obtained via cross-validation (0.9264)."
   ]
  },
  {
   "cell_type": "code",
   "execution_count": 44,
   "metadata": {},
   "outputs": [
    {
     "name": "stdout",
     "output_type": "stream",
     "text": [
      "areaUnderROC on hold-out test set:  0.9255\n"
     ]
    }
   ],
   "source": [
    "print(f'''areaUnderROC on hold-out test set:  {round(evaluator.evaluate(predictions), 4)}''')"
   ]
  },
  {
   "cell_type": "markdown",
   "metadata": {},
   "source": [
    "# 3. Summary and conclusions\n",
    "\n",
    "My project explored predicting customer churn using PySpark machine learning models. This included:\n",
    "\n",
    "- Data exploration\n",
    "- Data transformation\n",
    "- Setting up a pipeline to handle data preparation\n",
    "- Using cross-validation to explore 3 different models, each with a limited set of hyperparameters\n",
    "- Performing final model training, prediction on a test set, and evaluation\n",
    "\n",
    "With a background in using Scikit-Learn, making the transition to PySpark was fairly straightforward. The biggest challenge was looking at how to get the best performance I could. With 'small data' one can often get away with using sub-optimal methods, where with 'big data' on PySpark performance can be startlingly improved by doing a task in a recommended, optimized way. The first example I encountered was during the exploratory data analysis phase: I was originally using a nested for-loop to get my correlation matrix and it took nearly 5 minutes to run! Having discovered that pyspark.ml.stat has a Correlation class I was able to achieve the same result in a few seconds.\n",
    "\n",
    "\n",
    "## 3.1 Metrics evaluation\n",
    "\n",
    "Because our final areaUnderROC was very similar to that obtained during cross-validation, we've been able to confirm that performing cross-validation on only a _sampled subset_ of the data with just 3-fold cross validation was sufficient to establish a decent set of hyperparameters to use in training the full dataset.\n",
    "\n",
    "This is good news from a performance point of view: it gives us scope to widen the hyperparameter search space to find potentially better hyperparameter combinations while keeping runtimes reasonably fast since we are only using 29% of the full dataset to conduct this search."
   ]
  },
  {
   "cell_type": "markdown",
   "metadata": {},
   "source": [
    "On the surface, areaUnderROC looks like a good result, but to help us understand the results better let us look at the confusion matrix of predictions:"
   ]
  },
  {
   "cell_type": "code",
   "execution_count": 45,
   "metadata": {},
   "outputs": [
    {
     "data": {
      "image/png": "[encoded data removed]",
      "text/plain": [
       "<Figure size 576x576 with 2 Axes>"
      ]
     },
     "metadata": {},
     "output_type": "display_data"
    }
   ],
   "source": [
    "metrics = MulticlassMetrics(predictions.select(['prediction', 'CHURN']).rdd.map(tuple))\n",
    "confusion_matrix = metrics.confusionMatrix().toArray()\n",
    "plt.figure(figsize=(8,8))\n",
    "sns.heatmap(confusion_matrix, xticklabels=[0,1], yticklabels=[0,1], annot=True, fmt='g', cmap = 'rocket_r')\n",
    "plt.xlabel('Predicted')\n",
    "plt.ylabel('Actual')\n",
    "plt.title('Confusion Matrix for Logistic Regression Results')\n",
    "plt.show()"
   ]
  },
  {
   "cell_type": "markdown",
   "metadata": {},
   "source": [
    "Above we see that 90543 true positives were picked up (we predicted 1 and CHURN was 1), but there are also 51468 false positives (we predicted 1 but CHURN was 0) and 30608 false negatives (we predicted 0 but CHURN was 1). \n",
    "\n",
    "From the confusion matrix we can calculate some additional metrics:\n",
    "\n",
    "__Precision__: $\\dfrac{TP}{TP+FP} = \\dfrac{90543}{90543+51468} = 0.6376$<p>\n",
    "__Recall__: $\\dfrac{TP}{TP+FN} = \\dfrac{90543}{90543+30608} =0.7474$<p>\n",
    "__F-score__: $2 × \\dfrac{precision × recall}{precision + recall} = 2 × \\dfrac{0.6376 × 0.7474}{0.6376 + 0.7474} = 0.6881$\n",
    "    \n",
    "In business there is often a trade-off between Precision and Recall: Wikipedia summarizes \"Precision can be seen as a measure of quality, and recall as a measure of quantity. Higher precision means that an algorithm returns more relevant results than irrelevant ones, and high recall means that an algorithm returns most of the relevant results (whether or not irrelevant ones are also returned)\" (2023). In other words if business decides, for example, that it is important to identify as many churners as possible (even if that means including some customers that do not ultimately churn), then Recall will be prioritised as a metric.\n",
    "    \n",
    "In such a case we may want to look at adjusting the threshold parameter for LogisticRegression. The default threshold is 0.5, in other words all customers with a probability >= 0.5 will be categorised as CHURN. We could shift this, for example, to 0.45, meaning more customers would be predicted as CHURN. This is a parameter which can be included in hyperparameter tuning in the cross-validation phase OR adjusted as a post-processing step."
   ]
  },
  {
   "cell_type": "code",
   "execution_count": 46,
   "metadata": {},
   "outputs": [],
   "source": [
    "# Prepare data on false negatives and false positives\n",
    "predictions = predictions.withColumn('probabilities', vector_to_array('probability'))\n",
    "predictions = predictions.withColumn('proba_1', fn.col(\"probabilities\")[1] )\n",
    "FN = predictions.filter('CHURN = 1 AND prediction = 0').select(['CHURN', 'prediction', 'proba_1'])\n",
    "FP = predictions.filter('CHURN = 0 AND prediction = 1').select(['CHURN', 'prediction', 'proba_1'])"
   ]
  },
  {
   "cell_type": "markdown",
   "metadata": {},
   "source": [
    "Below we can see that the mean probability of the false negatives is 0.29:"
   ]
  },
  {
   "cell_type": "code",
   "execution_count": 47,
   "metadata": {},
   "outputs": [
    {
     "name": "stdout",
     "output_type": "stream",
     "text": [
      "False Negatives Mean Probability:\n",
      "+-----+-------------------+\n",
      "|CHURN|       proba_1_mean|\n",
      "+-----+-------------------+\n",
      "|  1.0|0.29161086834349975|\n",
      "+-----+-------------------+\n",
      "\n"
     ]
    }
   ],
   "source": [
    "print('False Negatives Mean Probability:')\n",
    "show_metric_by_target(FN, ['proba_1'], 'mean')"
   ]
  },
  {
   "cell_type": "markdown",
   "metadata": {},
   "source": [
    "While the mean probability of the false positives is 0.55:"
   ]
  },
  {
   "cell_type": "code",
   "execution_count": 48,
   "metadata": {},
   "outputs": [
    {
     "name": "stdout",
     "output_type": "stream",
     "text": [
      "False Positives Mean Probability:\n",
      "+-----+------------------+\n",
      "|CHURN|      proba_1_mean|\n",
      "+-----+------------------+\n",
      "|  0.0|0.5590774505390965|\n",
      "+-----+------------------+\n",
      "\n"
     ]
    }
   ],
   "source": [
    "print('False Positives Mean Probability:')\n",
    "show_metric_by_target(FP, ['proba_1'], 'mean')"
   ]
  },
  {
   "cell_type": "markdown",
   "metadata": {},
   "source": [
    "This information can give us further insights into how to adjust the threshold probability to include the customers according to business priorities."
   ]
  },
  {
   "attachments": {},
   "cell_type": "markdown",
   "metadata": {},
   "source": [
    "## 3.2 Performance evaluation\n",
    "\n",
    "The whole notebook took around 18 minutes to run. This is tolerably fast for processing 2,154,048 records, testing 3 different models, each with a selection of hyperparameters (albeit a very limited exploration).\n",
    "\n",
    "The biggest gain in performance that I obtained was by __persisting__ the training set prior to cross-validation and training so that it could be read from memory during the many iterations of cross-validation. This reduced my cross-validation times by 29% on average.\n",
    "\n",
    "I also read that cross-validation \"parameter evaluation can be done in parallel by setting __parallelism__ with a value of 2 or more (a value of 1 will be serial) before running model selection with CrossValidator\" (Apache Spark, 2023). I used the parameter (cautiously with a value of 2) and it resulted in only modest gains in performance - the same documentation also warned about \"exceeding cluster resources\" which is why I left it at 2, but it's possible had I gone with a higher value I could have seen a bigger improvement.\n",
    "\n",
    "You will also notice that the entire DataFrame (which we read in at the beginning) is stored in just 2 __partitions__ (which makes sense given that the dataset is 247Mb it fits on 2 x 128Mb partitions. I also read that using a larger number of smaller partitions could improve performance (Shaya, 2023) and experimented with repartitioning my data into 4 partitions, but the runtimes were very similar so I went with the default of 2 partitions in the end.\n",
    "\n",
    "In a recent benchmarking paper Garate-Escamilla, et al. looked at performance of logistic regression and random forest with increasing amounts of data (on 4 and 8 cores) and concluded \"Time increases linearly as the length of the dataset’s growth, indicating the expected behavior of all models with respect to scalability. In addition, the scalability factor of each model when the length of time increases multiplying by 2, 4, 8, and 16, is less than 2, which implies that is better than a linear scalability \" (2019). I would therefore expect PySpark to be able to handle much larger datasets than our current Expresso dataset if we wanted to scale up. \n",
    "\n",
    "It would be as well to experiment with the above parameters in the new situation to get optimal performance. One must also bear in mind that the longest-running component is cross-validation which is a once-off 'cost'. Training using the chosen hyperparameters, and prediction, which would take place regularly in a business setting, are very much quicker to run."
   ]
  },
  {
   "cell_type": "code",
   "execution_count": 49,
   "metadata": {},
   "outputs": [
    {
     "name": "stdout",
     "output_type": "stream",
     "text": [
      "Notebook runtime:  1133.0277 seconds\n"
     ]
    }
   ],
   "source": [
    "notebook_end = time.time()\n",
    "print(f'''Notebook runtime:  {round(notebook_end - notebook_start, 4)} seconds''')"
   ]
  },
  {
   "cell_type": "code",
   "execution_count": 50,
   "metadata": {},
   "outputs": [],
   "source": [
    "sc.stop()"
   ]
  },
  {
   "attachments": {},
   "cell_type": "markdown",
   "metadata": {},
   "source": [
    "# References\n",
    "\n",
    "Zindi, 2021. Expresso Churn Prediction Challenge. [Online] \n",
    "Available at: https://zindi.africa/competitions/expresso-churn-prediction\n",
    "[Accessed 2023].\n",
    "\n",
    "Apache Spark, 2023. pyspark.ml package¶. [Online] \n",
    "Available at: https://spark.apache.org/docs/3.0.1/api/python/pyspark.ml.html\n",
    "[Accessed 2023].\n",
    "\n",
    "Atabong, A. B., 2023. Outrage as Senegal cuts internet access for the second time. [Online] \n",
    "Available at: https://itweb.africa/content/j5alrMQAEXYMpYQk\n",
    "[Accessed 2023].\n",
    "\n",
    "Brownlee, J., 2020. Ordinal and One-Hot Encodings for Categorical Data. [Online] \n",
    "Available at: https://machinelearningmastery.com/one-hot-encoding-for-categorical-data/\n",
    "[Accessed 2023].\n",
    "\n",
    "Wikipedia, 2023. West African CFA franc. [Online] \n",
    "Available at: https://en.wikipedia.org/w/index.php?title=West_African_CFA_franc&oldid=1169350917\n",
    "[Accessed 2023].\n",
    "\n",
    "TAKE-PROFIT, 2023. SENEGAL WAGES: MINIMUM AND AVERAGE. [Online] \n",
    "Available at: https://take-profit.org/en/statistics/wages/senegal/#:~:text=What%20is%20average%20wage%20in,minimum%20was%2073076%20CFA%2FMonth.\n",
    "[Accessed 2023].\n",
    "\n",
    "Giroux, M., 2023. Senegal SIM Cards: Everything You Need To Know. [Online] \n",
    "Available at: https://abrokenbackpack.com/senegal-sim-cards/\n",
    "[Accessed 2023].\n",
    "\n",
    "Jagdeesh, n.d. PySpark Outlier Detection and Treatment – A Comprehensive Guide How to handle Outlier in PySpark. [Online] \n",
    "Available at: https://www.machinelearningplus.com/pyspark/pyspark-outlier-detection-and-treatment/\n",
    "[Accessed 2023].\n",
    "\n",
    "Apache Spark, 2023. RobustScaler. [Online] \n",
    "Available at: https://spark.apache.org/docs/latest/api/python/reference/api/pyspark.ml.feature.RobustScaler.html\n",
    "[Accessed 2023].\n",
    "\n",
    "Scikit Learn, 2023. sklearn.preprocessing.RobustScaler¶. [Online] \n",
    "Available at: https://scikit-learn.org/stable/modules/generated/sklearn.preprocessing.RobustScaler.html\n",
    "[Accessed 2023].\n",
    "\n",
    "Zach, 2020. The 6 Assumptions of Logistic Regression (With Examples). [Online] \n",
    "Available at: https://www.statology.org/assumptions-of-logistic-regression/\n",
    "[Accessed 2023].\n",
    "\n",
    "user603, 2015. How are Random Forests not sensitive to outliers?. [Online] \n",
    "Available at: https://stats.stackexchange.com/questions/187200/how-are-random-forests-not-sensitive-to-outliers\n",
    "[Accessed 2023].\n",
    "\n",
    "Zottie, R., 2016. why boosting method is sensitive to outliers. [Online] \n",
    "Available at: https://stats.stackexchange.com/questions/140215/why-boosting-method-is-sensitive-to-outliers\n",
    "[Accessed 2023].\n",
    "\n",
    "Apache Spark, 2023. MinMaxScaler. [Online] \n",
    "Available at: https://spark.apache.org/docs/latest/api/python/reference/api/pyspark.ml.feature.MinMaxScaler.html#pyspark.ml.feature.MinMaxScaler\n",
    "[Accessed 2023].\n",
    "\n",
    "Apache Spark, 2023. pyspark.sql.DataFrame.persist. [Online] \n",
    "Available at: https://spark.apache.org/docs/latest/api/python/reference/pyspark.sql/api/pyspark.sql.DataFrame.persist.html\n",
    "[Accessed 2023].\n",
    "\n",
    "Drabas, T. & Lee, D., 2017. Learning PySpark. Birmingham: Packt Publishing Ltd..\n",
    "McDonald, J. H., 2014. Handbook of Biological Statistics. 3rd Edition ed. Baltimore: Sparky House Publishing.\n",
    "Apache Spark, 2023. Logistic Regression. [Online] \n",
    "Available at: https://spark.apache.org/docs/latest/api/python/reference/api/pyspark.ml.classification.LogisticRegression.html#pyspark.ml.classification.LogisticRegression\n",
    "[Accessed 2023].\n",
    "\n",
    "Ford, C. T., 2019. Logistic Regression. [Online] \n",
    "Available at: https://www.sparkitecture.io/machine-learning/classification/logistic-regression\n",
    "[Accessed 2023].\n",
    "\n",
    "Apache Spark, 2023. RandomForestClassifier. [Online] \n",
    "Available at: https://spark.apache.org/docs/latest/api/python/reference/api/pyspark.ml.classification.RandomForestClassifier.html#pyspark.ml.classification.RandomForestClassifier\n",
    "[Accessed 2023].\n",
    "\n",
    "Ford, C. T., 2019. Random Forest. [Online] \n",
    "Available at: https://www.sparkitecture.io/machine-learning/classification/random-forest\n",
    "[Accessed 2023].\n",
    "\n",
    "Apache Spark, 2023. GBTClassifier. [Online] \n",
    "Available at: https://spark.apache.org/docs/latest/api/python/reference/api/pyspark.ml.classification.GBTClassifier.html#pyspark.ml.classification.GBTClassifier\n",
    "[Accessed 2023].\n",
    "\n",
    "Ford, C. T., 2019. Gradient Boosted Trees. [Online] \n",
    "Available at: https://www.sparkitecture.io/machine-learning/classification/gradient-boosted-trees\n",
    "[Accessed 2023].\n",
    "\n",
    "Wikipedia, 2023. Precision and recall. [Online] \n",
    "Available at: https://en.wikipedia.org/w/index.php?title=Precision_and_recall&oldid=1173965685\n",
    "[Accessed 2023].\n",
    "\n",
    "Apache Spark, 2023. ML Tuning: model selection and hyperparameter tuning. [Online] \n",
    "Available at: https://spark.apache.org/docs/2.3.0/ml-tuning.html\n",
    "[Accessed 2023].\n",
    "\n",
    "Shaya, B. Y., 2023. 5 PySpark Optimization Techniques You Should Know. [Online] \n",
    "Available at: https://granulate.io/blog/5-pyspark-optimization-techniques-you-should-know/#Number-of-Partitions-and-Partition-Size-in-PySpark\n",
    "[Accessed 2023].\n",
    "\n",
    "Garate-Escamilla, A. K., El Hassani, A. H. & Andres, E., 2019. Big data scalability based on Spark Machine Learning Libraries. New York, Association for Computing Machinery."
   ]
  }
 ],
 "metadata": {
  "kernelspec": {
   "display_name": "Python 3 (ipykernel)",
   "language": "python",
   "name": "python3"
  },
  "language_info": {
   "codemirror_mode": {
    "name": "ipython",
    "version": 3
   },
   "file_extension": ".py",
   "mimetype": "text/x-python",
   "name": "python",
   "nbconvert_exporter": "python",
   "pygments_lexer": "ipython3",
   "version": "3.11.3"
  }
 },
 "nbformat": 4,
 "nbformat_minor": 4
}
